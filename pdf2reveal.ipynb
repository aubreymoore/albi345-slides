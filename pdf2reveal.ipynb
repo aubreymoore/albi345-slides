{
 "cells": [
  {
   "cell_type": "markdown",
   "id": "3332a35e",
   "metadata": {},
   "source": [
    "    papermill -p PDFPATH /home/aubrey/ALBI-345/files/pdfs/Orders-with-Complete-Metamorphosis.pdf pdf2reveal.ipynb out.ipynb"
   ]
  },
  {
   "cell_type": "code",
   "execution_count": 8,
   "id": "ba28ba4e",
   "metadata": {},
   "outputs": [],
   "source": [
    "import os\n",
    "import requests, zipfile, io\n",
    "import jinja2\n",
    "import glob\n",
    "import shutil"
   ]
  },
  {
   "cell_type": "markdown",
   "id": "ec6d9c85",
   "metadata": {},
   "source": [
    "* https://marcus-baw.medium.com/using-reveal-js-a74b30e4065b\n",
    "* https://martinomensio.medium.com/how-to-host-reveal-js-slides-on-github-pages-and-have-a-tidy-repository-1a363944c38d\n",
    "* https://superuser.com/questions/1178666/imagemagick-convert-quits-after-some-pages"
   ]
  },
  {
   "cell_type": "code",
   "execution_count": 9,
   "id": "4229e212",
   "metadata": {
    "tags": [
     "parameters"
    ]
   },
   "outputs": [],
   "source": [
    "# Parameters which may be set using papermill\n",
    "\n",
    "PDFPATH = '/home/aubrey/Downloads/applied-ent.pdf'"
   ]
  },
  {
   "cell_type": "raw",
   "id": "0c311de9",
   "metadata": {},
   "source": [
    "def pdf2images():\n",
    "    \"\"\"\n",
    "    Convert the PDF pages into jpg images\n",
    "    \"\"\"\n",
    "    pdf_name = PDF.replace('.pdf', '')\n",
    "    if not os.path.exists('images'):\n",
    "        os.mkdir('images')\n",
    "    os.system(f'convert -density 300 {PDF} images/{pdf_name}-%03d.jpg')\n",
    "    images = sorted(glob.glob(f'images/{pdf_name}-???.jpg'))"
   ]
  },
  {
   "cell_type": "code",
   "execution_count": 10,
   "id": "a08ffdab",
   "metadata": {},
   "outputs": [],
   "source": [
    "def install_reveal():\n",
    "    \"\"\"\n",
    "    Download and install the latest version of reveal.js.\n",
    "    \"\"\"\n",
    "    if not os.path.exists('reveal.js-master'):\n",
    "        r = requests.get('https://github.com/hakimel/reveal.js/archive/master.zip')\n",
    "        z = zipfile.ZipFile(io.BytesIO(r.content))\n",
    "        z.extractall()"
   ]
  },
  {
   "cell_type": "code",
   "execution_count": 11,
   "id": "1124eae3",
   "metadata": {},
   "outputs": [],
   "source": [
    "def create_template():\n",
    "    \"\"\"\n",
    "    Create a jinja2 template by editing the reveal.js default index.html\n",
    "    \"\"\"\n",
    "\n",
    "    # Read the default index.html as a string    \n",
    "    s = open('reveal.js-master/index.html', 'r').read()\n",
    "\n",
    "    # edit the string and save it as template.html\n",
    "    s = s.replace('\"dist', '\"../reveal.js-master/dist')\n",
    "    s = s.replace('\"plugin', '\"../reveal.js-master/plugin')\n",
    "    s = s.replace('<section>Slide 1</section>\\n\\t\\t\\t\\t<section>Slide 2</section>',\n",
    "              '{% for image in images %}\\n\\t\\t\\t\\t\\t<section> <img src=\"../{{ image }}\"> </section>\\n\\t\\t\\t\\t{% endfor %}')\n",
    "\n",
    "    with open('template.html', 'w') as f:\n",
    "        f.write(s)"
   ]
  },
  {
   "cell_type": "code",
   "execution_count": 12,
   "id": "9c13f3dc",
   "metadata": {},
   "outputs": [],
   "source": [
    "def create_presentation():\n",
    "    \"\"\"\n",
    "    Use the jinja2 template to add slides from the images directory\n",
    "    \"\"\"\n",
    "    \n",
    "    if not os.path.exists('images'):\n",
    "        os.mkdir('images')    \n",
    "    \n",
    "    # Create a directory for the presentation and put a copy of the PDF in it\n",
    "    pdf_name = os.path.basename(PDFPATH).replace('.pdf', '')\n",
    "    os.mkdir(pdf_name)\n",
    "    shutil.copyfile(PDFPATH, f'{pdf_name}/{pdf_name}.pdf')\n",
    "    \n",
    "    # Convert the PDF pages into jpg images and store them in the communal images directory\n",
    "    os.system(f'convert -density 300 {PDFPATH} images/{pdf_name}-%03d.jpg')\n",
    "    images = sorted(glob.glob(f'images/{pdf_name}-???.jpg'))  \n",
    "    print(images)\n",
    "       \n",
    "    templateLoader = jinja2.FileSystemLoader(searchpath=\"./\")\n",
    "    templateEnv = jinja2.Environment(loader=templateLoader)\n",
    "    TEMPLATE_FILE = \"template.html\"\n",
    "    template = templateEnv.get_template(TEMPLATE_FILE)\n",
    "    outputText = template.render({'images': images})\n",
    "\n",
    "    with open(f'{pdf_name}/index.html', 'w') as out:\n",
    "        out.write(outputText)"
   ]
  },
  {
   "cell_type": "code",
   "execution_count": 13,
   "id": "192bb593",
   "metadata": {},
   "outputs": [],
   "source": [
    "# MAIN\n",
    "\n",
    "if not os.path.exists('reveal.js-master'):\n",
    "    install_reveal()\n",
    "    create_template()\n",
    "# create_presentation()"
   ]
  },
  {
   "cell_type": "code",
   "execution_count": 14,
   "id": "0fb6de1e",
   "metadata": {},
   "outputs": [
    {
     "name": "stdout",
     "output_type": "stream",
     "text": [
      "['images/applied-ent-000.jpg', 'images/applied-ent-001.jpg', 'images/applied-ent-002.jpg', 'images/applied-ent-003.jpg', 'images/applied-ent-004.jpg', 'images/applied-ent-005.jpg', 'images/applied-ent-006.jpg', 'images/applied-ent-007.jpg', 'images/applied-ent-008.jpg', 'images/applied-ent-009.jpg', 'images/applied-ent-010.jpg', 'images/applied-ent-011.jpg', 'images/applied-ent-012.jpg', 'images/applied-ent-013.jpg', 'images/applied-ent-014.jpg', 'images/applied-ent-015.jpg', 'images/applied-ent-016.jpg', 'images/applied-ent-017.jpg', 'images/applied-ent-018.jpg', 'images/applied-ent-019.jpg', 'images/applied-ent-020.jpg', 'images/applied-ent-021.jpg', 'images/applied-ent-022.jpg', 'images/applied-ent-023.jpg', 'images/applied-ent-024.jpg', 'images/applied-ent-025.jpg', 'images/applied-ent-026.jpg', 'images/applied-ent-027.jpg', 'images/applied-ent-028.jpg', 'images/applied-ent-029.jpg', 'images/applied-ent-030.jpg', 'images/applied-ent-031.jpg', 'images/applied-ent-032.jpg', 'images/applied-ent-033.jpg', 'images/applied-ent-034.jpg', 'images/applied-ent-035.jpg', 'images/applied-ent-036.jpg', 'images/applied-ent-037.jpg', 'images/applied-ent-038.jpg', 'images/applied-ent-039.jpg', 'images/applied-ent-040.jpg', 'images/applied-ent-041.jpg', 'images/applied-ent-042.jpg', 'images/applied-ent-043.jpg', 'images/applied-ent-044.jpg', 'images/applied-ent-045.jpg', 'images/applied-ent-046.jpg', 'images/applied-ent-047.jpg', 'images/applied-ent-048.jpg', 'images/applied-ent-049.jpg', 'images/applied-ent-050.jpg', 'images/applied-ent-051.jpg', 'images/applied-ent-052.jpg', 'images/applied-ent-053.jpg', 'images/applied-ent-054.jpg', 'images/applied-ent-055.jpg', 'images/applied-ent-056.jpg', 'images/applied-ent-057.jpg', 'images/applied-ent-058.jpg', 'images/applied-ent-059.jpg', 'images/applied-ent-060.jpg', 'images/applied-ent-061.jpg', 'images/applied-ent-062.jpg', 'images/applied-ent-063.jpg', 'images/applied-ent-064.jpg', 'images/applied-ent-065.jpg', 'images/applied-ent-066.jpg', 'images/applied-ent-067.jpg', 'images/applied-ent-068.jpg', 'images/applied-ent-069.jpg', 'images/applied-ent-070.jpg', 'images/applied-ent-071.jpg']\n"
     ]
    }
   ],
   "source": [
    "create_presentation()"
   ]
  },
  {
   "cell_type": "code",
   "execution_count": null,
   "id": "149d5c77",
   "metadata": {},
   "outputs": [],
   "source": []
  }
 ],
 "metadata": {
  "kernelspec": {
   "display_name": "Python 3",
   "language": "python",
   "name": "python3"
  },
  "language_info": {
   "codemirror_mode": {
    "name": "ipython",
    "version": 3
   },
   "file_extension": ".py",
   "mimetype": "text/x-python",
   "name": "python",
   "nbconvert_exporter": "python",
   "pygments_lexer": "ipython3",
   "version": "3.8.10"
  }
 },
 "nbformat": 4,
 "nbformat_minor": 5
}
