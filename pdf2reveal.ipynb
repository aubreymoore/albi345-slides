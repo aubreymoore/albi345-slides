{
 "cells": [
  {
   "cell_type": "markdown",
   "id": "3332a35e",
   "metadata": {},
   "source": [
    "# pdf2reveal\n",
    "This notebook transforms a presentation PDF made using LibreOffice Impress, Microsoft Powerpoint or Latex Beamer into HTML (reveal.js). This allows displaying the presentation on any device running a web browser. \n",
    "\n",
    "I wrote this so that I can present lecture slides on a Promethean without having to connect my computer. \n",
    "\n",
    "### Technical details\n",
    "\n",
    "###### Initialization\n",
    "\n",
    "During the initial run of this notebook, the **install_reveal** function installed the latest version of **reveal.js** which was **4.1.3**. The **create_template** function then created a **jinja2** template by editing \n",
    "**reveal.js-master/index.html**. Note that my notebook code may break if a later version of **reveal.js** is installed.\n",
    "\n",
    "###### GitHub repository\n",
    "A copy of this notebook and all files and directories created by it is maintained in a GitHub repository at https://github.com/aubreymoore/albi345-slides. This repo serves GitHub pages at https://aubreymoore.github.io/albi345-slides/. \n",
    "\n",
    "###### Example usage\n",
    "```\n",
    "papermill \\ \n",
    "-p PDFPATH /home/aubrey/ALBI-345/files/pdfs/Orders-with-Complete-Metamorphosis.pdf \\ \n",
    "pdf2reveal.ipynb \\ \n",
    "out.ipynb\n",
    "```\n",
    "After running this example and pushing the local repo to gitHub, the online HTML (reveal.js) presentation will be available at \n",
    "https://aubreymoore.github.io/albi345-slides/Orders-with-Complete-Metamorphosis\n",
    "\n",
    "###### Example bash script\n",
    "```bash\n",
    "#!/bin/bash\n",
    "echo $1\n",
    "if test -r $1\n",
    "then\n",
    "    papermill -p PDFPATH $1 pdf2reveal.ipynb out.ipynb\n",
    "\tgit pull\n",
    "\tgit add .\n",
    "\tgit commit -m \"$1\"\n",
    "\tgit push\n",
    "else\n",
    "    echo \"ERROR: Cannot find PDF at $1\"\n",
    "fi\n",
    "```\n",
    "\n",
    "###### Directory structure:\n",
    "```\n",
    "pdf2reveal.ipynb          This notebook.\n",
    "index.html                Recreated every time this notebook is run. Index of presentations.\n",
    "template.html             Created during intitial run of this notebook.\n",
    "out.ipynb                 Created when running this notebook using papermill. Useful for error checking.\n",
    "reveal.js-master (dir)    Created during intitial run of this notebook.\n",
    "images (dir)              Created during intitial run of this notebook.\n",
    "   presentation1-000.jpg  Created when PDFPATH is \"*/presentation1.pdf\"\n",
    "   presentation1-001.jpg  Created when PDFPATH is \"*/presentation1.pdf\"\n",
    "   ...\n",
    "   presentation2-000.jpg  Created when PDFPATH is \"*/presentation2.pdf\"\n",
    "   presentation2-001.jpg  Created when PDFPATH is \"*/presentation2.pdf\"\n",
    "   ...\n",
    "presentation1 (dir)       Created when PDFPATH is \"*/presentation1.pdf\"\n",
    "   presentation1.pdf      Created when PDFPATH is \"*/presentation1.pdf\" Copy of original PDF.\n",
    "   index.html             Created when PDFPATH is \"*/presentation1.pdf\" This is the HTML presentation.  \n",
    "presentation2 (dir)       Created when PDFPATH is \"*/presentation2.pdf\"\n",
    "   presentation2.pdf      Created when PDFPATH is \"*/presentation2.pdf\" Copy of original PDF.\n",
    "   index.html             Created when PDFPATH is \"*/presentation2.pdf\" This is the HTML presentation.\n",
    "```\n",
    "\n",
    "##### Fixing imagemagick problems\n",
    "This notebook uses the **convert** command, which is part of **imagemagick** to convert PDFs to images.\n",
    "Had some initial problems which were fixed by changing a few lines in the config file **/etc/ImageMagick-6/policy.xml**:\n",
    "```\n",
    "<policy domain=\"coder\" rights=\"none\" pattern=\"PDF\" />\n",
    "<policy domain=\"resource\" name=\"memory\" value=\"256MiB\"/>\n",
    "<policy domain=\"resource\" name=\"disk\" value=\"1GiB\"/>\n",
    "```\n",
    "where changed to:\n",
    "```\n",
    "<!--  <policy domain=\"coder\" rights=\"none\" pattern=\"PDF\" />  -->\n",
    "<policy domain=\"resource\" name=\"memory\" value=\"8GiB\"/>\n",
    "<policy domain=\"resource\" name=\"disk\" value=\"8GiB\"/>\n",
    "```\n",
    "### References\n",
    "* https://marcus-baw.medium.com/using-reveal-js-a74b30e4065b\n",
    "* https://martinomensio.medium.com/how-to-host-reveal-js-slides-on-github-pages-and-have-a-tidy-repository-1a363944c38d\n",
    "* https://superuser.com/questions/1178666/imagemagick-convert-quits-after-some-pages"
   ]
  },
  {
   "cell_type": "code",
   "execution_count": 8,
   "id": "ba28ba4e",
   "metadata": {},
   "outputs": [],
   "source": [
    "import os\n",
    "import requests, zipfile, io\n",
    "import jinja2\n",
    "import glob\n",
    "import shutil"
   ]
  },
  {
   "cell_type": "code",
   "execution_count": 9,
   "id": "4229e212",
   "metadata": {
    "tags": [
     "parameters"
    ]
   },
   "outputs": [],
   "source": [
    "# Parameters which may be set using papermill\n",
    "PDFPATH = '/home/aubrey/Downloads/SWCD-2021-07-30.pdf'\n",
    "GITHUB_REPO='https://github.com/aubreymoore/albi345-slides'\n",
    "GITHUB_PAGES='https://aubreymoore.github.io/albi345-slides'"
   ]
  },
  {
   "cell_type": "code",
   "execution_count": 10,
   "id": "a08ffdab",
   "metadata": {},
   "outputs": [],
   "source": [
    "def install_reveal():\n",
    "    \"\"\"\n",
    "    Download and install the latest version of reveal.js.\n",
    "    \"\"\"\n",
    "    if not os.path.exists('reveal.js-master'):\n",
    "        r = requests.get('https://github.com/hakimel/reveal.js/archive/master.zip')\n",
    "        z = zipfile.ZipFile(io.BytesIO(r.content))\n",
    "        z.extractall()"
   ]
  },
  {
   "cell_type": "code",
   "execution_count": 11,
   "id": "1124eae3",
   "metadata": {},
   "outputs": [],
   "source": [
    "def create_template():\n",
    "    \"\"\"\n",
    "    Create a jinja2 template by editing the reveal.js default index.html\n",
    "    \"\"\"\n",
    "\n",
    "    # Read the default index.html as a string    \n",
    "    s = open('reveal.js-master/index.html', 'r').read()\n",
    "\n",
    "    # edit the string and save it as template.html\n",
    "    s = s.replace('\"dist', '\"../reveal.js-master/dist')\n",
    "    s = s.replace('\"plugin', '\"../reveal.js-master/plugin')\n",
    "    s = s.replace('<section>Slide 1</section>\\n\\t\\t\\t\\t<section>Slide 2</section>',\n",
    "              '{% for image in images %}\\n\\t\\t\\t\\t\\t<section> <img src=\"../{{ image }}\"> </section>\\n\\t\\t\\t\\t{% endfor %}')\n",
    "\n",
    "    with open('template.html', 'w') as f:\n",
    "        f.write(s)"
   ]
  },
  {
   "cell_type": "code",
   "execution_count": 12,
   "id": "9c13f3dc",
   "metadata": {},
   "outputs": [],
   "source": [
    "def create_presentation():\n",
    "    \"\"\"\n",
    "    Use the jinja2 template to add slides from the images directory\n",
    "    \"\"\"\n",
    "    \n",
    "    if not os.path.exists('images'):\n",
    "        os.mkdir('images')    \n",
    "    \n",
    "    # Create a directory for the presentation and put a copy of the PDF in it\n",
    "    pdf_name = os.path.basename(PDFPATH).replace('.pdf', '')\n",
    "    os.mkdir(pdf_name)\n",
    "    shutil.copyfile(PDFPATH, f'{pdf_name}/{pdf_name}.pdf')\n",
    "    \n",
    "    # Convert the PDF pages into jpg images and store them in the communal images directory\n",
    "    os.system(f'convert -density 300 {PDFPATH} images/{pdf_name}-%03d.jpg')\n",
    "    images = sorted(glob.glob(f'images/{pdf_name}-???.jpg'))  \n",
    "    print(images)\n",
    "       \n",
    "    templateLoader = jinja2.FileSystemLoader(searchpath=\"./\")\n",
    "    templateEnv = jinja2.Environment(loader=templateLoader)\n",
    "    TEMPLATE_FILE = \"template.html\"\n",
    "    template = templateEnv.get_template(TEMPLATE_FILE)\n",
    "    outputText = template.render({'images': images})\n",
    "\n",
    "    with open(f'{pdf_name}/index.html', 'w') as out:\n",
    "        out.write(outputText)"
   ]
  },
  {
   "cell_type": "code",
   "execution_count": 13,
   "id": "b12e9564",
   "metadata": {},
   "outputs": [],
   "source": [
    "def update_main_index():\n",
    "    \"\"\"\n",
    "    Update the main GitHub pages index\n",
    "    \"\"\"\n",
    "    # Get a list of presentations from the image directory \n",
    "    images = glob.glob('images/*.jpg')\n",
    "    for i, image in enumerate(images):\n",
    "        images[i] = image[7:-8]\n",
    "    presentations = set(images)\n",
    "    presentations = list(presentations)\n",
    "    presentations = sorted(presentations, key=str.casefold)\n",
    "\n",
    "    # Create index page\n",
    "    s = '<h1>HTML (reveal.js) presentations for ALBI-345</h1>\\n'\n",
    "    for presentation in presentations:\n",
    "        s += f'<a href=\"{GITHUB_PAGES}/{presentation}\">{presentation}</a><br>\\n'\n",
    "    with open(\"index.html\", \"w\") as f:\n",
    "        f.write(s)"
   ]
  },
  {
   "cell_type": "code",
   "execution_count": 14,
   "id": "192bb593",
   "metadata": {},
   "outputs": [
    {
     "name": "stdout",
     "output_type": "stream",
     "text": [
      "['images/SWCD-2021-07-30-000.jpg', 'images/SWCD-2021-07-30-001.jpg', 'images/SWCD-2021-07-30-002.jpg', 'images/SWCD-2021-07-30-003.jpg', 'images/SWCD-2021-07-30-004.jpg', 'images/SWCD-2021-07-30-005.jpg', 'images/SWCD-2021-07-30-006.jpg', 'images/SWCD-2021-07-30-007.jpg', 'images/SWCD-2021-07-30-008.jpg', 'images/SWCD-2021-07-30-009.jpg', 'images/SWCD-2021-07-30-010.jpg', 'images/SWCD-2021-07-30-011.jpg', 'images/SWCD-2021-07-30-012.jpg', 'images/SWCD-2021-07-30-013.jpg', 'images/SWCD-2021-07-30-014.jpg', 'images/SWCD-2021-07-30-015.jpg', 'images/SWCD-2021-07-30-016.jpg', 'images/SWCD-2021-07-30-017.jpg', 'images/SWCD-2021-07-30-018.jpg', 'images/SWCD-2021-07-30-019.jpg', 'images/SWCD-2021-07-30-020.jpg', 'images/SWCD-2021-07-30-021.jpg', 'images/SWCD-2021-07-30-022.jpg', 'images/SWCD-2021-07-30-023.jpg', 'images/SWCD-2021-07-30-024.jpg', 'images/SWCD-2021-07-30-025.jpg', 'images/SWCD-2021-07-30-026.jpg', 'images/SWCD-2021-07-30-027.jpg', 'images/SWCD-2021-07-30-028.jpg', 'images/SWCD-2021-07-30-029.jpg', 'images/SWCD-2021-07-30-030.jpg', 'images/SWCD-2021-07-30-031.jpg', 'images/SWCD-2021-07-30-032.jpg', 'images/SWCD-2021-07-30-033.jpg', 'images/SWCD-2021-07-30-034.jpg', 'images/SWCD-2021-07-30-035.jpg', 'images/SWCD-2021-07-30-036.jpg', 'images/SWCD-2021-07-30-037.jpg', 'images/SWCD-2021-07-30-038.jpg', 'images/SWCD-2021-07-30-039.jpg', 'images/SWCD-2021-07-30-040.jpg', 'images/SWCD-2021-07-30-041.jpg', 'images/SWCD-2021-07-30-042.jpg', 'images/SWCD-2021-07-30-043.jpg', 'images/SWCD-2021-07-30-044.jpg', 'images/SWCD-2021-07-30-045.jpg', 'images/SWCD-2021-07-30-046.jpg', 'images/SWCD-2021-07-30-047.jpg', 'images/SWCD-2021-07-30-048.jpg', 'images/SWCD-2021-07-30-049.jpg', 'images/SWCD-2021-07-30-050.jpg', 'images/SWCD-2021-07-30-051.jpg', 'images/SWCD-2021-07-30-052.jpg', 'images/SWCD-2021-07-30-053.jpg', 'images/SWCD-2021-07-30-054.jpg', 'images/SWCD-2021-07-30-055.jpg', 'images/SWCD-2021-07-30-056.jpg', 'images/SWCD-2021-07-30-057.jpg', 'images/SWCD-2021-07-30-058.jpg', 'images/SWCD-2021-07-30-059.jpg', 'images/SWCD-2021-07-30-060.jpg', 'images/SWCD-2021-07-30-061.jpg', 'images/SWCD-2021-07-30-062.jpg', 'images/SWCD-2021-07-30-063.jpg', 'images/SWCD-2021-07-30-064.jpg', 'images/SWCD-2021-07-30-065.jpg', 'images/SWCD-2021-07-30-066.jpg', 'images/SWCD-2021-07-30-067.jpg', 'images/SWCD-2021-07-30-068.jpg', 'images/SWCD-2021-07-30-069.jpg', 'images/SWCD-2021-07-30-070.jpg']\n",
      "Finished converting /home/aubrey/Downloads/SWCD-2021-07-30.pdf\n",
      "Do not forget to update git and push to GitHub.\n"
     ]
    }
   ],
   "source": [
    "# MAIN\n",
    "\n",
    "PRESENTATION = os.path.basename(PDFPATH).replace('.pdf', '')\n",
    "if not os.path.exists('reveal.js-master'):\n",
    "    install_reveal()\n",
    "    create_template()\n",
    "create_presentation()\n",
    "update_main_index()\n",
    "print(f'Finished converting {PDFPATH}')\n",
    "print('Do not forget to update git and push to GitHub.')"
   ]
  }
 ],
 "metadata": {
  "kernelspec": {
   "display_name": "Python 3",
   "language": "python",
   "name": "python3"
  },
  "language_info": {
   "codemirror_mode": {
    "name": "ipython",
    "version": 3
   },
   "file_extension": ".py",
   "mimetype": "text/x-python",
   "name": "python",
   "nbconvert_exporter": "python",
   "pygments_lexer": "ipython3",
   "version": "3.8.10"
  }
 },
 "nbformat": 4,
 "nbformat_minor": 5
}
