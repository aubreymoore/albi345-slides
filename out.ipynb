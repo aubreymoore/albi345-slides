{
 "cells": [
  {
   "cell_type": "markdown",
   "id": "3332a35e",
   "metadata": {
    "papermill": {
     "duration": 0.013192,
     "end_time": "2021-09-04T01:17:40.696558",
     "exception": false,
     "start_time": "2021-09-04T01:17:40.683366",
     "status": "completed"
    },
    "tags": []
   },
   "source": [
    "# pdf2reveal\n",
    "This notebook transforms a presentation PDF made using LibreOffice Impress, Microsoft Powerpoint or Latex Beamer into HTML (reveal.js). This allows displaying the presentation on any device running a web browser. \n",
    "\n",
    "I wrote this so that I can present lecture slides on a Promethean without having to connect my computer. \n",
    "\n",
    "### Technical details\n",
    "\n",
    "###### Initialization\n",
    "\n",
    "During the initial run of this notebook, the **install_reveal** function installed the latest version of **reveal.js** which was **4.1.3**. The **create_template** function then created a jinja2 template by editing \n",
    "**reveal.js-master/index.html**. Note that my notebook code may break if a later version of **reveal.js** is installed.\n",
    "\n",
    "###### GitHub repository\n",
    "A copy of this notebook and all files and directories created by it is maintained in a GitHub repository at https://github.com/aubreymoore/albi345-slides. This repo serves GitHub pages at https://aubreymoore.github.io/albi345-slides/. \n",
    "\n",
    "###### Example usage\n",
    "```\n",
    "papermill \\ \n",
    "-p PDFPATH /home/aubrey/ALBI-345/files/pdfs/Orders-with-Complete-Metamorphosis.pdf \\ \n",
    "pdf2reveal.ipynb \\ \n",
    "out.ipynb\n",
    "```\n",
    "After running this example and pushing the local repo to gitHub, the online HTML (reveal.js) presentation will be available at \n",
    "https://aubreymoore.github.io/albi345-slides/Orders-with-Complete-Metamorphosis\n",
    "\n",
    "###### Directory structure:\n",
    "```\n",
    "pdf2reveal.ipynb          This notebook.\n",
    "template.html             Created during intitial run of this notebook.\n",
    "out.ipynb                 Created when running this notebook using papermill. Useful for error checking.\n",
    "reveal.js-master (dir)    Created during intitial run of this notebook.\n",
    "images (dir)              Created during intitial run of this notebook.\n",
    "   presentation1-000.jpg  Created when PDFPATH is \"*/presentation1.pdf\"\n",
    "   presentation1-001.jpg  Created when PDFPATH is \"*/presentation1.pdf\"\n",
    "   ...\n",
    "   presentation2-000.jpg  Created when PDFPATH is \"*/presentation2.pdf\"\n",
    "   presentation2-001.jpg  Created when PDFPATH is \"*/presentation2.pdf\"\n",
    "   ...\n",
    "presentation1 (dir)       Created when PDFPATH is \"*/presentation1.pdf\"\n",
    "   presentation1.pdf      Created when PDFPATH is \"*/presentation1.pdf\" Copy of original PDF.\n",
    "   index.html             Created when PDFPATH is \"*/presentation1.pdf\"   \n",
    "presentation2 (dir)       Created when PDFPATH is \"*/presentation2.pdf\"\n",
    "   presentation2.pdf      Created when PDFPATH is \"*/presentation2.pdf\" Copy of original PDF.\n",
    "   index.html             Created when PDFPATH is \"*/presentation2.pdf\"\n",
    "```\n",
    "\n",
    "##### Template\n",
    "\n",
    "During the initial first run of this notebook\n",
    "The create_template function \n",
    "reveal.js 4.1.3\n",
    "\n",
    "##### Fixing imagemagick problems\n",
    "This notebook uses the **convert** command, which is part of **imagemagick** to convert PDFs to images.\n",
    "Had some initial problems which were fixed by changing a few lines in the config file **/etc/ImageMagick-6/policy.xml**:\n",
    "```\n",
    "<policy domain=\"coder\" rights=\"none\" pattern=\"PDF\" />\n",
    "<policy domain=\"resource\" name=\"memory\" value=\"256MiB\"/>\n",
    "<policy domain=\"resource\" name=\"disk\" value=\"1GiB\"/>\n",
    "```\n",
    "where changed to:\n",
    "```\n",
    "<!--  <policy domain=\"coder\" rights=\"none\" pattern=\"PDF\" />  -->\n",
    "<policy domain=\"resource\" name=\"memory\" value=\"8GiB\"/>\n",
    "<policy domain=\"resource\" name=\"disk\" value=\"8GiB\"/>\n",
    "```\n",
    "### References\n",
    "* https://marcus-baw.medium.com/using-reveal-js-a74b30e4065b\n",
    "* https://martinomensio.medium.com/how-to-host-reveal-js-slides-on-github-pages-and-have-a-tidy-repository-1a363944c38d\n",
    "* https://superuser.com/questions/1178666/imagemagick-convert-quits-after-some-pages"
   ]
  },
  {
   "cell_type": "code",
   "execution_count": 1,
   "id": "ba28ba4e",
   "metadata": {
    "execution": {
     "iopub.execute_input": "2021-09-04T01:17:40.712927Z",
     "iopub.status.busy": "2021-09-04T01:17:40.712422Z",
     "iopub.status.idle": "2021-09-04T01:17:40.776546Z",
     "shell.execute_reply": "2021-09-04T01:17:40.776157Z"
    },
    "papermill": {
     "duration": 0.072831,
     "end_time": "2021-09-04T01:17:40.776631",
     "exception": false,
     "start_time": "2021-09-04T01:17:40.703800",
     "status": "completed"
    },
    "tags": []
   },
   "outputs": [],
   "source": [
    "import os\n",
    "import requests, zipfile, io\n",
    "import jinja2\n",
    "import glob\n",
    "import shutil"
   ]
  },
  {
   "cell_type": "code",
   "execution_count": 2,
   "id": "4229e212",
   "metadata": {
    "execution": {
     "iopub.execute_input": "2021-09-04T01:17:40.785797Z",
     "iopub.status.busy": "2021-09-04T01:17:40.785404Z",
     "iopub.status.idle": "2021-09-04T01:17:40.786906Z",
     "shell.execute_reply": "2021-09-04T01:17:40.787144Z"
    },
    "papermill": {
     "duration": 0.007184,
     "end_time": "2021-09-04T01:17:40.787220",
     "exception": false,
     "start_time": "2021-09-04T01:17:40.780036",
     "status": "completed"
    },
    "tags": [
     "parameters"
    ]
   },
   "outputs": [],
   "source": [
    "# Parameters which may be set using papermill\n",
    "PDFPATH = '/home/aubrey/Downloads/applied-ent.pdf'"
   ]
  },
  {
   "cell_type": "code",
   "execution_count": 3,
   "id": "e2076d81",
   "metadata": {
    "execution": {
     "iopub.execute_input": "2021-09-04T01:17:40.795497Z",
     "iopub.status.busy": "2021-09-04T01:17:40.795181Z",
     "iopub.status.idle": "2021-09-04T01:17:40.796953Z",
     "shell.execute_reply": "2021-09-04T01:17:40.796597Z"
    },
    "papermill": {
     "duration": 0.0066,
     "end_time": "2021-09-04T01:17:40.797019",
     "exception": false,
     "start_time": "2021-09-04T01:17:40.790419",
     "status": "completed"
    },
    "tags": [
     "injected-parameters"
    ]
   },
   "outputs": [],
   "source": [
    "# Parameters\n",
    "PDFPATH = \"/home/aubrey/ALBI-345/files/pdfs/Orders-with-Incomplete-Metamorphosis.pdf\"\n"
   ]
  },
  {
   "cell_type": "raw",
   "id": "0c311de9",
   "metadata": {
    "papermill": {
     "duration": 0.003077,
     "end_time": "2021-09-04T01:17:40.803402",
     "exception": false,
     "start_time": "2021-09-04T01:17:40.800325",
     "status": "completed"
    },
    "tags": []
   },
   "source": [
    "def pdf2images():\n",
    "    \"\"\"\n",
    "    Convert the PDF pages into jpg images\n",
    "    \"\"\"\n",
    "    pdf_name = PDF.replace('.pdf', '')\n",
    "    if not os.path.exists('images'):\n",
    "        os.mkdir('images')\n",
    "    os.system(f'convert -density 300 {PDF} images/{pdf_name}-%03d.jpg')\n",
    "    images = sorted(glob.glob(f'images/{pdf_name}-???.jpg'))"
   ]
  },
  {
   "cell_type": "code",
   "execution_count": 4,
   "id": "a08ffdab",
   "metadata": {
    "execution": {
     "iopub.execute_input": "2021-09-04T01:17:40.812396Z",
     "iopub.status.busy": "2021-09-04T01:17:40.812071Z",
     "iopub.status.idle": "2021-09-04T01:17:40.813752Z",
     "shell.execute_reply": "2021-09-04T01:17:40.813388Z"
    },
    "papermill": {
     "duration": 0.007287,
     "end_time": "2021-09-04T01:17:40.813818",
     "exception": false,
     "start_time": "2021-09-04T01:17:40.806531",
     "status": "completed"
    },
    "tags": []
   },
   "outputs": [],
   "source": [
    "def install_reveal():\n",
    "    \"\"\"\n",
    "    Download and install the latest version of reveal.js.\n",
    "    \"\"\"\n",
    "    if not os.path.exists('reveal.js-master'):\n",
    "        r = requests.get('https://github.com/hakimel/reveal.js/archive/master.zip')\n",
    "        z = zipfile.ZipFile(io.BytesIO(r.content))\n",
    "        z.extractall()"
   ]
  },
  {
   "cell_type": "code",
   "execution_count": 5,
   "id": "1124eae3",
   "metadata": {
    "execution": {
     "iopub.execute_input": "2021-09-04T01:17:40.822879Z",
     "iopub.status.busy": "2021-09-04T01:17:40.822572Z",
     "iopub.status.idle": "2021-09-04T01:17:40.824260Z",
     "shell.execute_reply": "2021-09-04T01:17:40.823956Z"
    },
    "papermill": {
     "duration": 0.007416,
     "end_time": "2021-09-04T01:17:40.824325",
     "exception": false,
     "start_time": "2021-09-04T01:17:40.816909",
     "status": "completed"
    },
    "tags": []
   },
   "outputs": [],
   "source": [
    "def create_template():\n",
    "    \"\"\"\n",
    "    Create a jinja2 template by editing the reveal.js default index.html\n",
    "    \"\"\"\n",
    "\n",
    "    # Read the default index.html as a string    \n",
    "    s = open('reveal.js-master/index.html', 'r').read()\n",
    "\n",
    "    # edit the string and save it as template.html\n",
    "    s = s.replace('\"dist', '\"../reveal.js-master/dist')\n",
    "    s = s.replace('\"plugin', '\"../reveal.js-master/plugin')\n",
    "    s = s.replace('<section>Slide 1</section>\\n\\t\\t\\t\\t<section>Slide 2</section>',\n",
    "              '{% for image in images %}\\n\\t\\t\\t\\t\\t<section> <img src=\"../{{ image }}\"> </section>\\n\\t\\t\\t\\t{% endfor %}')\n",
    "\n",
    "    with open('template.html', 'w') as f:\n",
    "        f.write(s)"
   ]
  },
  {
   "cell_type": "code",
   "execution_count": 6,
   "id": "9c13f3dc",
   "metadata": {
    "execution": {
     "iopub.execute_input": "2021-09-04T01:17:40.834761Z",
     "iopub.status.busy": "2021-09-04T01:17:40.834449Z",
     "iopub.status.idle": "2021-09-04T01:17:40.836071Z",
     "shell.execute_reply": "2021-09-04T01:17:40.835762Z"
    },
    "papermill": {
     "duration": 0.008617,
     "end_time": "2021-09-04T01:17:40.836141",
     "exception": false,
     "start_time": "2021-09-04T01:17:40.827524",
     "status": "completed"
    },
    "tags": []
   },
   "outputs": [],
   "source": [
    "def create_presentation():\n",
    "    \"\"\"\n",
    "    Use the jinja2 template to add slides from the images directory\n",
    "    \"\"\"\n",
    "    \n",
    "    if not os.path.exists('images'):\n",
    "        os.mkdir('images')    \n",
    "    \n",
    "    # Create a directory for the presentation and put a copy of the PDF in it\n",
    "    pdf_name = os.path.basename(PDFPATH).replace('.pdf', '')\n",
    "    os.mkdir(pdf_name)\n",
    "    shutil.copyfile(PDFPATH, f'{pdf_name}/{pdf_name}.pdf')\n",
    "    \n",
    "    # Convert the PDF pages into jpg images and store them in the communal images directory\n",
    "    os.system(f'convert -density 300 {PDFPATH} images/{pdf_name}-%03d.jpg')\n",
    "    images = sorted(glob.glob(f'images/{pdf_name}-???.jpg'))  \n",
    "    print(images)\n",
    "       \n",
    "    templateLoader = jinja2.FileSystemLoader(searchpath=\"./\")\n",
    "    templateEnv = jinja2.Environment(loader=templateLoader)\n",
    "    TEMPLATE_FILE = \"template.html\"\n",
    "    template = templateEnv.get_template(TEMPLATE_FILE)\n",
    "    outputText = template.render({'images': images})\n",
    "\n",
    "    with open(f'{pdf_name}/index.html', 'w') as out:\n",
    "        out.write(outputText)"
   ]
  },
  {
   "cell_type": "code",
   "execution_count": 7,
   "id": "192bb593",
   "metadata": {
    "execution": {
     "iopub.execute_input": "2021-09-04T01:17:40.845532Z",
     "iopub.status.busy": "2021-09-04T01:17:40.845221Z",
     "iopub.status.idle": "2021-09-04T01:18:41.850417Z",
     "shell.execute_reply": "2021-09-04T01:18:41.850668Z"
    },
    "papermill": {
     "duration": 61.011253,
     "end_time": "2021-09-04T01:18:41.850754",
     "exception": false,
     "start_time": "2021-09-04T01:17:40.839501",
     "status": "completed"
    },
    "tags": []
   },
   "outputs": [
    {
     "name": "stdout",
     "output_type": "stream",
     "text": [
      "['images/Orders-with-Incomplete-Metamorphosis-000.jpg', 'images/Orders-with-Incomplete-Metamorphosis-001.jpg', 'images/Orders-with-Incomplete-Metamorphosis-002.jpg', 'images/Orders-with-Incomplete-Metamorphosis-003.jpg', 'images/Orders-with-Incomplete-Metamorphosis-004.jpg', 'images/Orders-with-Incomplete-Metamorphosis-005.jpg', 'images/Orders-with-Incomplete-Metamorphosis-006.jpg', 'images/Orders-with-Incomplete-Metamorphosis-007.jpg', 'images/Orders-with-Incomplete-Metamorphosis-008.jpg', 'images/Orders-with-Incomplete-Metamorphosis-009.jpg', 'images/Orders-with-Incomplete-Metamorphosis-010.jpg', 'images/Orders-with-Incomplete-Metamorphosis-011.jpg', 'images/Orders-with-Incomplete-Metamorphosis-012.jpg', 'images/Orders-with-Incomplete-Metamorphosis-013.jpg', 'images/Orders-with-Incomplete-Metamorphosis-014.jpg', 'images/Orders-with-Incomplete-Metamorphosis-015.jpg', 'images/Orders-with-Incomplete-Metamorphosis-016.jpg', 'images/Orders-with-Incomplete-Metamorphosis-017.jpg', 'images/Orders-with-Incomplete-Metamorphosis-018.jpg', 'images/Orders-with-Incomplete-Metamorphosis-019.jpg', 'images/Orders-with-Incomplete-Metamorphosis-020.jpg', 'images/Orders-with-Incomplete-Metamorphosis-021.jpg', 'images/Orders-with-Incomplete-Metamorphosis-022.jpg', 'images/Orders-with-Incomplete-Metamorphosis-023.jpg', 'images/Orders-with-Incomplete-Metamorphosis-024.jpg', 'images/Orders-with-Incomplete-Metamorphosis-025.jpg', 'images/Orders-with-Incomplete-Metamorphosis-026.jpg', 'images/Orders-with-Incomplete-Metamorphosis-027.jpg', 'images/Orders-with-Incomplete-Metamorphosis-028.jpg', 'images/Orders-with-Incomplete-Metamorphosis-029.jpg', 'images/Orders-with-Incomplete-Metamorphosis-030.jpg', 'images/Orders-with-Incomplete-Metamorphosis-031.jpg', 'images/Orders-with-Incomplete-Metamorphosis-032.jpg', 'images/Orders-with-Incomplete-Metamorphosis-033.jpg', 'images/Orders-with-Incomplete-Metamorphosis-034.jpg', 'images/Orders-with-Incomplete-Metamorphosis-035.jpg', 'images/Orders-with-Incomplete-Metamorphosis-036.jpg', 'images/Orders-with-Incomplete-Metamorphosis-037.jpg', 'images/Orders-with-Incomplete-Metamorphosis-038.jpg', 'images/Orders-with-Incomplete-Metamorphosis-039.jpg', 'images/Orders-with-Incomplete-Metamorphosis-040.jpg', 'images/Orders-with-Incomplete-Metamorphosis-041.jpg', 'images/Orders-with-Incomplete-Metamorphosis-042.jpg', 'images/Orders-with-Incomplete-Metamorphosis-043.jpg', 'images/Orders-with-Incomplete-Metamorphosis-044.jpg', 'images/Orders-with-Incomplete-Metamorphosis-045.jpg', 'images/Orders-with-Incomplete-Metamorphosis-046.jpg', 'images/Orders-with-Incomplete-Metamorphosis-047.jpg', 'images/Orders-with-Incomplete-Metamorphosis-048.jpg', 'images/Orders-with-Incomplete-Metamorphosis-049.jpg', 'images/Orders-with-Incomplete-Metamorphosis-050.jpg', 'images/Orders-with-Incomplete-Metamorphosis-051.jpg', 'images/Orders-with-Incomplete-Metamorphosis-052.jpg', 'images/Orders-with-Incomplete-Metamorphosis-053.jpg', 'images/Orders-with-Incomplete-Metamorphosis-054.jpg', 'images/Orders-with-Incomplete-Metamorphosis-055.jpg', 'images/Orders-with-Incomplete-Metamorphosis-056.jpg', 'images/Orders-with-Incomplete-Metamorphosis-057.jpg', 'images/Orders-with-Incomplete-Metamorphosis-058.jpg', 'images/Orders-with-Incomplete-Metamorphosis-059.jpg', 'images/Orders-with-Incomplete-Metamorphosis-060.jpg', 'images/Orders-with-Incomplete-Metamorphosis-061.jpg', 'images/Orders-with-Incomplete-Metamorphosis-062.jpg', 'images/Orders-with-Incomplete-Metamorphosis-063.jpg', 'images/Orders-with-Incomplete-Metamorphosis-064.jpg', 'images/Orders-with-Incomplete-Metamorphosis-065.jpg', 'images/Orders-with-Incomplete-Metamorphosis-066.jpg', 'images/Orders-with-Incomplete-Metamorphosis-067.jpg', 'images/Orders-with-Incomplete-Metamorphosis-068.jpg', 'images/Orders-with-Incomplete-Metamorphosis-069.jpg', 'images/Orders-with-Incomplete-Metamorphosis-070.jpg', 'images/Orders-with-Incomplete-Metamorphosis-071.jpg', 'images/Orders-with-Incomplete-Metamorphosis-072.jpg', 'images/Orders-with-Incomplete-Metamorphosis-073.jpg', 'images/Orders-with-Incomplete-Metamorphosis-074.jpg', 'images/Orders-with-Incomplete-Metamorphosis-075.jpg', 'images/Orders-with-Incomplete-Metamorphosis-076.jpg', 'images/Orders-with-Incomplete-Metamorphosis-077.jpg', 'images/Orders-with-Incomplete-Metamorphosis-078.jpg', 'images/Orders-with-Incomplete-Metamorphosis-079.jpg', 'images/Orders-with-Incomplete-Metamorphosis-080.jpg', 'images/Orders-with-Incomplete-Metamorphosis-081.jpg', 'images/Orders-with-Incomplete-Metamorphosis-082.jpg', 'images/Orders-with-Incomplete-Metamorphosis-083.jpg', 'images/Orders-with-Incomplete-Metamorphosis-084.jpg', 'images/Orders-with-Incomplete-Metamorphosis-085.jpg', 'images/Orders-with-Incomplete-Metamorphosis-086.jpg', 'images/Orders-with-Incomplete-Metamorphosis-087.jpg', 'images/Orders-with-Incomplete-Metamorphosis-088.jpg', 'images/Orders-with-Incomplete-Metamorphosis-089.jpg', 'images/Orders-with-Incomplete-Metamorphosis-090.jpg', 'images/Orders-with-Incomplete-Metamorphosis-091.jpg', 'images/Orders-with-Incomplete-Metamorphosis-092.jpg']\n",
      "Finished converting /home/aubrey/ALBI-345/files/pdfs/Orders-with-Incomplete-Metamorphosis.pdf\n",
      "Do not forget to update git and push to GitHub.\n"
     ]
    }
   ],
   "source": [
    "# MAIN\n",
    "\n",
    "if not os.path.exists('reveal.js-master'):\n",
    "    install_reveal()\n",
    "    create_template()\n",
    "create_presentation()\n",
    "print(f'Finished converting {PDFPATH}')\n",
    "print('Do not forget to update git and push to GitHub.')"
   ]
  }
 ],
 "metadata": {
  "kernelspec": {
   "display_name": "Python 3",
   "language": "python",
   "name": "python3"
  },
  "language_info": {
   "codemirror_mode": {
    "name": "ipython",
    "version": 3
   },
   "file_extension": ".py",
   "mimetype": "text/x-python",
   "name": "python",
   "nbconvert_exporter": "python",
   "pygments_lexer": "ipython3",
   "version": "3.8.10"
  },
  "papermill": {
   "default_parameters": {},
   "duration": 62.159968,
   "end_time": "2021-09-04T01:18:42.059192",
   "environment_variables": {},
   "exception": null,
   "input_path": "pdf2reveal.ipynb",
   "output_path": "out.ipynb",
   "parameters": {
    "PDFPATH": "/home/aubrey/ALBI-345/files/pdfs/Orders-with-Incomplete-Metamorphosis.pdf"
   },
   "start_time": "2021-09-04T01:17:39.899224",
   "version": "2.3.3"
  }
 },
 "nbformat": 4,
 "nbformat_minor": 5
}