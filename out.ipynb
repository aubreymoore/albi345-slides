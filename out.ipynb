{
 "cells": [
  {
   "cell_type": "markdown",
   "id": "3332a35e",
   "metadata": {
    "papermill": {
     "duration": 0.020252,
     "end_time": "2021-08-31T08:59:33.497772",
     "exception": false,
     "start_time": "2021-08-31T08:59:33.477520",
     "status": "completed"
    },
    "tags": []
   },
   "source": [
    "    papermill -p PDFPATH /home/aubrey/ALBI-345/files/pdfs/Orders-with-Complete-Metamorphosis.pdf pdf2reveal.ipynb out.ipynb"
   ]
  },
  {
   "cell_type": "code",
   "execution_count": 1,
   "id": "ba28ba4e",
   "metadata": {
    "execution": {
     "iopub.execute_input": "2021-08-31T08:59:33.525992Z",
     "iopub.status.busy": "2021-08-31T08:59:33.525436Z",
     "iopub.status.idle": "2021-08-31T08:59:33.604620Z",
     "shell.execute_reply": "2021-08-31T08:59:33.604275Z"
    },
    "papermill": {
     "duration": 0.091147,
     "end_time": "2021-08-31T08:59:33.604702",
     "exception": false,
     "start_time": "2021-08-31T08:59:33.513555",
     "status": "completed"
    },
    "tags": []
   },
   "outputs": [],
   "source": [
    "import os\n",
    "import requests, zipfile, io\n",
    "import jinja2\n",
    "import glob\n",
    "import shutil"
   ]
  },
  {
   "cell_type": "markdown",
   "id": "ec6d9c85",
   "metadata": {
    "papermill": {
     "duration": 0.004363,
     "end_time": "2021-08-31T08:59:33.613581",
     "exception": false,
     "start_time": "2021-08-31T08:59:33.609218",
     "status": "completed"
    },
    "tags": []
   },
   "source": [
    "* https://marcus-baw.medium.com/using-reveal-js-a74b30e4065b\n",
    "* https://martinomensio.medium.com/how-to-host-reveal-js-slides-on-github-pages-and-have-a-tidy-repository-1a363944c38d\n",
    "* https://superuser.com/questions/1178666/imagemagick-convert-quits-after-some-pages"
   ]
  },
  {
   "cell_type": "code",
   "execution_count": 2,
   "id": "4229e212",
   "metadata": {
    "execution": {
     "iopub.execute_input": "2021-08-31T08:59:33.624253Z",
     "iopub.status.busy": "2021-08-31T08:59:33.623913Z",
     "iopub.status.idle": "2021-08-31T08:59:33.625721Z",
     "shell.execute_reply": "2021-08-31T08:59:33.625990Z"
    },
    "papermill": {
     "duration": 0.008294,
     "end_time": "2021-08-31T08:59:33.626085",
     "exception": false,
     "start_time": "2021-08-31T08:59:33.617791",
     "status": "completed"
    },
    "tags": [
     "parameters"
    ]
   },
   "outputs": [],
   "source": [
    "# Parameters which may be set using papermill\n",
    "\n",
    "PDFPATH = '/home/aubrey/Downloads/applied-ent.pdf'"
   ]
  },
  {
   "cell_type": "code",
   "execution_count": 3,
   "id": "129d5220",
   "metadata": {
    "execution": {
     "iopub.execute_input": "2021-08-31T08:59:33.636622Z",
     "iopub.status.busy": "2021-08-31T08:59:33.636309Z",
     "iopub.status.idle": "2021-08-31T08:59:33.638066Z",
     "shell.execute_reply": "2021-08-31T08:59:33.637754Z"
    },
    "papermill": {
     "duration": 0.00782,
     "end_time": "2021-08-31T08:59:33.638137",
     "exception": false,
     "start_time": "2021-08-31T08:59:33.630317",
     "status": "completed"
    },
    "tags": [
     "injected-parameters"
    ]
   },
   "outputs": [],
   "source": [
    "# Parameters\n",
    "PDFPATH = \"/home/aubrey/ALBI-345/files/pdfs/Orders-with-Complete-Metamorphosis.pdf\"\n"
   ]
  },
  {
   "cell_type": "raw",
   "id": "0c311de9",
   "metadata": {
    "papermill": {
     "duration": 0.003925,
     "end_time": "2021-08-31T08:59:33.645983",
     "exception": false,
     "start_time": "2021-08-31T08:59:33.642058",
     "status": "completed"
    },
    "tags": []
   },
   "source": [
    "def pdf2images():\n",
    "    \"\"\"\n",
    "    Convert the PDF pages into jpg images\n",
    "    \"\"\"\n",
    "    pdf_name = PDF.replace('.pdf', '')\n",
    "    if not os.path.exists('images'):\n",
    "        os.mkdir('images')\n",
    "    os.system(f'convert -density 300 {PDF} images/{pdf_name}-%03d.jpg')\n",
    "    images = sorted(glob.glob(f'images/{pdf_name}-???.jpg'))"
   ]
  },
  {
   "cell_type": "code",
   "execution_count": 4,
   "id": "a08ffdab",
   "metadata": {
    "execution": {
     "iopub.execute_input": "2021-08-31T08:59:33.656983Z",
     "iopub.status.busy": "2021-08-31T08:59:33.656662Z",
     "iopub.status.idle": "2021-08-31T08:59:33.658525Z",
     "shell.execute_reply": "2021-08-31T08:59:33.658210Z"
    },
    "papermill": {
     "duration": 0.008732,
     "end_time": "2021-08-31T08:59:33.658595",
     "exception": false,
     "start_time": "2021-08-31T08:59:33.649863",
     "status": "completed"
    },
    "tags": []
   },
   "outputs": [],
   "source": [
    "def install_reveal():\n",
    "    \"\"\"\n",
    "    Download and install the latest version of reveal.js.\n",
    "    \"\"\"\n",
    "    if not os.path.exists('reveal.js-master'):\n",
    "        r = requests.get('https://github.com/hakimel/reveal.js/archive/master.zip')\n",
    "        z = zipfile.ZipFile(io.BytesIO(r.content))\n",
    "        z.extractall()"
   ]
  },
  {
   "cell_type": "code",
   "execution_count": 5,
   "id": "1124eae3",
   "metadata": {
    "execution": {
     "iopub.execute_input": "2021-08-31T08:59:33.670981Z",
     "iopub.status.busy": "2021-08-31T08:59:33.670650Z",
     "iopub.status.idle": "2021-08-31T08:59:33.672095Z",
     "shell.execute_reply": "2021-08-31T08:59:33.672355Z"
    },
    "papermill": {
     "duration": 0.009934,
     "end_time": "2021-08-31T08:59:33.672450",
     "exception": false,
     "start_time": "2021-08-31T08:59:33.662516",
     "status": "completed"
    },
    "tags": []
   },
   "outputs": [],
   "source": [
    "def create_template():\n",
    "    \"\"\"\n",
    "    Create a jinja2 template by editing the reveal.js default index.html\n",
    "    \"\"\"\n",
    "\n",
    "    # Read the default index.html as a string    \n",
    "    s = open('reveal.js-master/index.html', 'r').read()\n",
    "\n",
    "    # edit the string and save it as template.html\n",
    "    s = s.replace('\"dist', '\"../reveal.js-master/dist')\n",
    "    s = s.replace('\"plugin', '\"../reveal.js-master/plugin')\n",
    "    s = s.replace('<section>Slide 1</section>\\n\\t\\t\\t\\t<section>Slide 2</section>',\n",
    "              '{% for image in images %}\\n\\t\\t\\t\\t\\t<section> <img src=\"../{{ image }}\"> </section>\\n\\t\\t\\t\\t{% endfor %}')\n",
    "\n",
    "    with open('template.html', 'w') as f:\n",
    "        f.write(s)"
   ]
  },
  {
   "cell_type": "code",
   "execution_count": 6,
   "id": "9c13f3dc",
   "metadata": {
    "execution": {
     "iopub.execute_input": "2021-08-31T08:59:33.685288Z",
     "iopub.status.busy": "2021-08-31T08:59:33.684954Z",
     "iopub.status.idle": "2021-08-31T08:59:33.686658Z",
     "shell.execute_reply": "2021-08-31T08:59:33.686342Z"
    },
    "papermill": {
     "duration": 0.01017,
     "end_time": "2021-08-31T08:59:33.686731",
     "exception": false,
     "start_time": "2021-08-31T08:59:33.676561",
     "status": "completed"
    },
    "tags": []
   },
   "outputs": [],
   "source": [
    "def create_presentation():\n",
    "    \"\"\"\n",
    "    Use the jinja2 template to add slides from the images directory\n",
    "    \"\"\"\n",
    "    \n",
    "    if not os.path.exists('images'):\n",
    "        os.mkdir('images')    \n",
    "    \n",
    "    # Create a directory for the presentation and put a copy of the PDF in it\n",
    "    pdf_name = os.path.basename(PDFPATH).replace('.pdf', '')\n",
    "    os.mkdir(pdf_name)\n",
    "    shutil.copyfile(PDFPATH, f'{pdf_name}/{pdf_name}.pdf')\n",
    "    \n",
    "    # Convert the PDF pages into jpg images and store them in the communal images directory\n",
    "    os.system(f'convert -density 300 {PDFPATH} images/{pdf_name}-%03d.jpg')\n",
    "    images = sorted(glob.glob(f'images/{pdf_name}-???.jpg'))  \n",
    "    print(images)\n",
    "       \n",
    "    templateLoader = jinja2.FileSystemLoader(searchpath=\"./\")\n",
    "    templateEnv = jinja2.Environment(loader=templateLoader)\n",
    "    TEMPLATE_FILE = \"template.html\"\n",
    "    template = templateEnv.get_template(TEMPLATE_FILE)\n",
    "    outputText = template.render({'images': images})\n",
    "\n",
    "    with open(f'{pdf_name}/index.html', 'w') as out:\n",
    "        out.write(outputText)"
   ]
  },
  {
   "cell_type": "code",
   "execution_count": 7,
   "id": "192bb593",
   "metadata": {
    "execution": {
     "iopub.execute_input": "2021-08-31T08:59:33.697992Z",
     "iopub.status.busy": "2021-08-31T08:59:33.697665Z",
     "iopub.status.idle": "2021-08-31T08:59:33.699136Z",
     "shell.execute_reply": "2021-08-31T08:59:33.699399Z"
    },
    "papermill": {
     "duration": 0.0086,
     "end_time": "2021-08-31T08:59:33.699495",
     "exception": false,
     "start_time": "2021-08-31T08:59:33.690895",
     "status": "completed"
    },
    "tags": []
   },
   "outputs": [],
   "source": [
    "# MAIN\n",
    "\n",
    "if not os.path.exists('reveal.js-master'):\n",
    "    install_reveal()\n",
    "    create_template()\n",
    "# create_presentation()"
   ]
  },
  {
   "cell_type": "code",
   "execution_count": 8,
   "id": "0fb6de1e",
   "metadata": {
    "execution": {
     "iopub.execute_input": "2021-08-31T08:59:33.710743Z",
     "iopub.status.busy": "2021-08-31T08:59:33.710428Z",
     "iopub.status.idle": "2021-08-31T09:00:24.417799Z",
     "shell.execute_reply": "2021-08-31T09:00:24.418113Z"
    },
    "papermill": {
     "duration": 50.714465,
     "end_time": "2021-08-31T09:00:24.418220",
     "exception": false,
     "start_time": "2021-08-31T08:59:33.703755",
     "status": "completed"
    },
    "tags": []
   },
   "outputs": [
    {
     "name": "stdout",
     "output_type": "stream",
     "text": [
      "['images/Orders-with-Complete-Metamorphosis-000.jpg', 'images/Orders-with-Complete-Metamorphosis-001.jpg', 'images/Orders-with-Complete-Metamorphosis-002.jpg', 'images/Orders-with-Complete-Metamorphosis-003.jpg', 'images/Orders-with-Complete-Metamorphosis-004.jpg', 'images/Orders-with-Complete-Metamorphosis-005.jpg', 'images/Orders-with-Complete-Metamorphosis-006.jpg', 'images/Orders-with-Complete-Metamorphosis-007.jpg', 'images/Orders-with-Complete-Metamorphosis-008.jpg', 'images/Orders-with-Complete-Metamorphosis-009.jpg', 'images/Orders-with-Complete-Metamorphosis-010.jpg', 'images/Orders-with-Complete-Metamorphosis-011.jpg', 'images/Orders-with-Complete-Metamorphosis-012.jpg', 'images/Orders-with-Complete-Metamorphosis-013.jpg', 'images/Orders-with-Complete-Metamorphosis-014.jpg', 'images/Orders-with-Complete-Metamorphosis-015.jpg', 'images/Orders-with-Complete-Metamorphosis-016.jpg', 'images/Orders-with-Complete-Metamorphosis-017.jpg', 'images/Orders-with-Complete-Metamorphosis-018.jpg', 'images/Orders-with-Complete-Metamorphosis-019.jpg', 'images/Orders-with-Complete-Metamorphosis-020.jpg', 'images/Orders-with-Complete-Metamorphosis-021.jpg', 'images/Orders-with-Complete-Metamorphosis-022.jpg', 'images/Orders-with-Complete-Metamorphosis-023.jpg', 'images/Orders-with-Complete-Metamorphosis-024.jpg', 'images/Orders-with-Complete-Metamorphosis-025.jpg', 'images/Orders-with-Complete-Metamorphosis-026.jpg', 'images/Orders-with-Complete-Metamorphosis-027.jpg', 'images/Orders-with-Complete-Metamorphosis-028.jpg', 'images/Orders-with-Complete-Metamorphosis-029.jpg', 'images/Orders-with-Complete-Metamorphosis-030.jpg', 'images/Orders-with-Complete-Metamorphosis-031.jpg', 'images/Orders-with-Complete-Metamorphosis-032.jpg', 'images/Orders-with-Complete-Metamorphosis-033.jpg', 'images/Orders-with-Complete-Metamorphosis-034.jpg', 'images/Orders-with-Complete-Metamorphosis-035.jpg', 'images/Orders-with-Complete-Metamorphosis-036.jpg', 'images/Orders-with-Complete-Metamorphosis-037.jpg', 'images/Orders-with-Complete-Metamorphosis-038.jpg', 'images/Orders-with-Complete-Metamorphosis-039.jpg', 'images/Orders-with-Complete-Metamorphosis-040.jpg', 'images/Orders-with-Complete-Metamorphosis-041.jpg', 'images/Orders-with-Complete-Metamorphosis-042.jpg', 'images/Orders-with-Complete-Metamorphosis-043.jpg', 'images/Orders-with-Complete-Metamorphosis-044.jpg', 'images/Orders-with-Complete-Metamorphosis-045.jpg', 'images/Orders-with-Complete-Metamorphosis-046.jpg', 'images/Orders-with-Complete-Metamorphosis-047.jpg', 'images/Orders-with-Complete-Metamorphosis-048.jpg', 'images/Orders-with-Complete-Metamorphosis-049.jpg', 'images/Orders-with-Complete-Metamorphosis-050.jpg', 'images/Orders-with-Complete-Metamorphosis-051.jpg', 'images/Orders-with-Complete-Metamorphosis-052.jpg', 'images/Orders-with-Complete-Metamorphosis-053.jpg', 'images/Orders-with-Complete-Metamorphosis-054.jpg', 'images/Orders-with-Complete-Metamorphosis-055.jpg', 'images/Orders-with-Complete-Metamorphosis-056.jpg', 'images/Orders-with-Complete-Metamorphosis-057.jpg', 'images/Orders-with-Complete-Metamorphosis-058.jpg', 'images/Orders-with-Complete-Metamorphosis-059.jpg', 'images/Orders-with-Complete-Metamorphosis-060.jpg', 'images/Orders-with-Complete-Metamorphosis-061.jpg', 'images/Orders-with-Complete-Metamorphosis-062.jpg', 'images/Orders-with-Complete-Metamorphosis-063.jpg', 'images/Orders-with-Complete-Metamorphosis-064.jpg', 'images/Orders-with-Complete-Metamorphosis-065.jpg', 'images/Orders-with-Complete-Metamorphosis-066.jpg', 'images/Orders-with-Complete-Metamorphosis-067.jpg', 'images/Orders-with-Complete-Metamorphosis-068.jpg', 'images/Orders-with-Complete-Metamorphosis-069.jpg', 'images/Orders-with-Complete-Metamorphosis-070.jpg', 'images/Orders-with-Complete-Metamorphosis-071.jpg', 'images/Orders-with-Complete-Metamorphosis-072.jpg']\n"
     ]
    }
   ],
   "source": [
    "create_presentation()"
   ]
  },
  {
   "cell_type": "code",
   "execution_count": null,
   "id": "149d5c77",
   "metadata": {
    "papermill": {
     "duration": 0.004962,
     "end_time": "2021-08-31T09:00:24.428510",
     "exception": false,
     "start_time": "2021-08-31T09:00:24.423548",
     "status": "completed"
    },
    "tags": []
   },
   "outputs": [],
   "source": []
  }
 ],
 "metadata": {
  "kernelspec": {
   "display_name": "Python 3",
   "language": "python",
   "name": "python3"
  },
  "language_info": {
   "codemirror_mode": {
    "name": "ipython",
    "version": 3
   },
   "file_extension": ".py",
   "mimetype": "text/x-python",
   "name": "python",
   "nbconvert_exporter": "python",
   "pygments_lexer": "ipython3",
   "version": "3.8.10"
  },
  "papermill": {
   "default_parameters": {},
   "duration": 51.813694,
   "end_time": "2021-08-31T09:00:24.639210",
   "environment_variables": {},
   "exception": null,
   "input_path": "pdf2reveal.ipynb",
   "output_path": "out.ipynb",
   "parameters": {
    "PDFPATH": "/home/aubrey/ALBI-345/files/pdfs/Orders-with-Complete-Metamorphosis.pdf"
   },
   "start_time": "2021-08-31T08:59:32.825516",
   "version": "2.3.3"
  }
 },
 "nbformat": 4,
 "nbformat_minor": 5
}