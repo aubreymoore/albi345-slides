{
 "cells": [
  {
   "cell_type": "markdown",
   "id": "3332a35e",
   "metadata": {
    "papermill": {
     "duration": 0.006866,
     "end_time": "2021-11-02T19:49:25.775120",
     "exception": false,
     "start_time": "2021-11-02T19:49:25.768254",
     "status": "completed"
    },
    "tags": []
   },
   "source": [
    "# pdf2reveal\n",
    "This notebook transforms a presentation PDF made using LibreOffice Impress, Microsoft Powerpoint or Latex Beamer into HTML (reveal.js). This allows displaying the presentation on any device running a web browser. \n",
    "\n",
    "I wrote this so that I can present lecture slides on a Promethean without having to connect my computer. \n",
    "\n",
    "### Technical details\n",
    "\n",
    "###### Initialization\n",
    "\n",
    "During the initial run of this notebook, the **install_reveal** function installed the latest version of **reveal.js** which was **4.1.3**. The **create_template** function then created a **jinja2** template by editing \n",
    "**reveal.js-master/index.html**. Note that my notebook code may break if a later version of **reveal.js** is installed.\n",
    "\n",
    "###### GitHub repository\n",
    "A copy of this notebook and all files and directories created by it is maintained in a GitHub repository at https://github.com/aubreymoore/albi345-slides. This repo serves GitHub pages at https://aubreymoore.github.io/albi345-slides/. \n",
    "\n",
    "###### Example usage\n",
    "```\n",
    "papermill \\ \n",
    "-p PDFPATH /home/aubrey/ALBI-345/files/pdfs/Orders-with-Complete-Metamorphosis.pdf \\ \n",
    "pdf2reveal.ipynb \\ \n",
    "out.ipynb\n",
    "```\n",
    "After running this example and pushing the local repo to gitHub, the online HTML (reveal.js) presentation will be available at \n",
    "https://aubreymoore.github.io/albi345-slides/Orders-with-Complete-Metamorphosis\n",
    "\n",
    "###### Example bash script\n",
    "```bash\n",
    "#!/bin/bash\n",
    "echo $1\n",
    "if test -r $1\n",
    "then\n",
    "    papermill -p PDFPATH $1 pdf2reveal.ipynb out.ipynb\n",
    "\tgit pull\n",
    "\tgit add .\n",
    "\tgit commit -m \"$1\"\n",
    "\tgit push\n",
    "else\n",
    "    echo \"ERROR: Cannot find PDF at $1\"\n",
    "fi\n",
    "```\n",
    "\n",
    "###### Directory structure:\n",
    "```\n",
    "pdf2reveal.ipynb          This notebook.\n",
    "index.html                Recreated every time this notebook is run. Index of presentations.\n",
    "template.html             Created during intitial run of this notebook.\n",
    "out.ipynb                 Created when running this notebook using papermill. Useful for error checking.\n",
    "reveal.js-master (dir)    Created during intitial run of this notebook.\n",
    "images (dir)              Created during intitial run of this notebook.\n",
    "   presentation1-000.jpg  Created when PDFPATH is \"*/presentation1.pdf\"\n",
    "   presentation1-001.jpg  Created when PDFPATH is \"*/presentation1.pdf\"\n",
    "   ...\n",
    "   presentation2-000.jpg  Created when PDFPATH is \"*/presentation2.pdf\"\n",
    "   presentation2-001.jpg  Created when PDFPATH is \"*/presentation2.pdf\"\n",
    "   ...\n",
    "presentation1 (dir)       Created when PDFPATH is \"*/presentation1.pdf\"\n",
    "   presentation1.pdf      Created when PDFPATH is \"*/presentation1.pdf\" Copy of original PDF.\n",
    "   index.html             Created when PDFPATH is \"*/presentation1.pdf\" This is the HTML presentation.  \n",
    "presentation2 (dir)       Created when PDFPATH is \"*/presentation2.pdf\"\n",
    "   presentation2.pdf      Created when PDFPATH is \"*/presentation2.pdf\" Copy of original PDF.\n",
    "   index.html             Created when PDFPATH is \"*/presentation2.pdf\" This is the HTML presentation.\n",
    "```\n",
    "\n",
    "##### Fixing imagemagick problems\n",
    "This notebook uses the **convert** command, which is part of **imagemagick** to convert PDFs to images.\n",
    "Had some initial problems which were fixed by changing a few lines in the config file **/etc/ImageMagick-6/policy.xml**:\n",
    "```\n",
    "<policy domain=\"coder\" rights=\"none\" pattern=\"PDF\" />\n",
    "<policy domain=\"resource\" name=\"memory\" value=\"256MiB\"/>\n",
    "<policy domain=\"resource\" name=\"disk\" value=\"1GiB\"/>\n",
    "```\n",
    "where changed to:\n",
    "```\n",
    "<!--  <policy domain=\"coder\" rights=\"none\" pattern=\"PDF\" />  -->\n",
    "<policy domain=\"resource\" name=\"memory\" value=\"8GiB\"/>\n",
    "<policy domain=\"resource\" name=\"disk\" value=\"8GiB\"/>\n",
    "```\n",
    "### References\n",
    "* https://marcus-baw.medium.com/using-reveal-js-a74b30e4065b\n",
    "* https://martinomensio.medium.com/how-to-host-reveal-js-slides-on-github-pages-and-have-a-tidy-repository-1a363944c38d\n",
    "* https://superuser.com/questions/1178666/imagemagick-convert-quits-after-some-pages"
   ]
  },
  {
   "cell_type": "code",
   "execution_count": 1,
   "id": "ba28ba4e",
   "metadata": {
    "execution": {
     "iopub.execute_input": "2021-11-02T19:49:25.784190Z",
     "iopub.status.busy": "2021-11-02T19:49:25.783892Z",
     "iopub.status.idle": "2021-11-02T19:49:25.843061Z",
     "shell.execute_reply": "2021-11-02T19:49:25.842729Z"
    },
    "papermill": {
     "duration": 0.064662,
     "end_time": "2021-11-02T19:49:25.843141",
     "exception": false,
     "start_time": "2021-11-02T19:49:25.778479",
     "status": "completed"
    },
    "tags": []
   },
   "outputs": [],
   "source": [
    "import os\n",
    "import requests, zipfile, io\n",
    "import jinja2\n",
    "import glob\n",
    "import shutil"
   ]
  },
  {
   "cell_type": "code",
   "execution_count": 2,
   "id": "4229e212",
   "metadata": {
    "execution": {
     "iopub.execute_input": "2021-11-02T19:49:25.851994Z",
     "iopub.status.busy": "2021-11-02T19:49:25.851698Z",
     "iopub.status.idle": "2021-11-02T19:49:25.853461Z",
     "shell.execute_reply": "2021-11-02T19:49:25.853166Z"
    },
    "papermill": {
     "duration": 0.007017,
     "end_time": "2021-11-02T19:49:25.853522",
     "exception": false,
     "start_time": "2021-11-02T19:49:25.846505",
     "status": "completed"
    },
    "tags": [
     "parameters"
    ]
   },
   "outputs": [],
   "source": [
    "# Parameters which may be set using papermill\n",
    "PDFPATH = '/home/aubrey/Downloads/SWCD-2021-07-30.pdf'\n",
    "GITHUB_REPO='https://github.com/aubreymoore/albi345-slides'\n",
    "GITHUB_PAGES='https://aubreymoore.github.io/albi345-slides'"
   ]
  },
  {
   "cell_type": "code",
   "execution_count": 3,
   "id": "c9f0ee67",
   "metadata": {
    "execution": {
     "iopub.execute_input": "2021-11-02T19:49:25.861904Z",
     "iopub.status.busy": "2021-11-02T19:49:25.861610Z",
     "iopub.status.idle": "2021-11-02T19:49:25.863657Z",
     "shell.execute_reply": "2021-11-02T19:49:25.863356Z"
    },
    "papermill": {
     "duration": 0.007002,
     "end_time": "2021-11-02T19:49:25.863718",
     "exception": false,
     "start_time": "2021-11-02T19:49:25.856716",
     "status": "completed"
    },
    "tags": [
     "injected-parameters"
    ]
   },
   "outputs": [],
   "source": [
    "# Parameters\n",
    "PDFPATH = \"/home/aubrey/ALBI-345/files/pdfs/urban-entomology.pdf\"\n"
   ]
  },
  {
   "cell_type": "code",
   "execution_count": 4,
   "id": "a08ffdab",
   "metadata": {
    "execution": {
     "iopub.execute_input": "2021-11-02T19:49:25.873063Z",
     "iopub.status.busy": "2021-11-02T19:49:25.872748Z",
     "iopub.status.idle": "2021-11-02T19:49:25.874517Z",
     "shell.execute_reply": "2021-11-02T19:49:25.874209Z"
    },
    "papermill": {
     "duration": 0.007571,
     "end_time": "2021-11-02T19:49:25.874589",
     "exception": false,
     "start_time": "2021-11-02T19:49:25.867018",
     "status": "completed"
    },
    "tags": []
   },
   "outputs": [],
   "source": [
    "def install_reveal():\n",
    "    \"\"\"\n",
    "    Download and install the latest version of reveal.js.\n",
    "    \"\"\"\n",
    "    if not os.path.exists('reveal.js-master'):\n",
    "        r = requests.get('https://github.com/hakimel/reveal.js/archive/master.zip')\n",
    "        z = zipfile.ZipFile(io.BytesIO(r.content))\n",
    "        z.extractall()"
   ]
  },
  {
   "cell_type": "code",
   "execution_count": 5,
   "id": "1124eae3",
   "metadata": {
    "execution": {
     "iopub.execute_input": "2021-11-02T19:49:25.884334Z",
     "iopub.status.busy": "2021-11-02T19:49:25.884020Z",
     "iopub.status.idle": "2021-11-02T19:49:25.885921Z",
     "shell.execute_reply": "2021-11-02T19:49:25.885513Z"
    },
    "papermill": {
     "duration": 0.007915,
     "end_time": "2021-11-02T19:49:25.885986",
     "exception": false,
     "start_time": "2021-11-02T19:49:25.878071",
     "status": "completed"
    },
    "tags": []
   },
   "outputs": [],
   "source": [
    "def create_template():\n",
    "    \"\"\"\n",
    "    Create a jinja2 template by editing the reveal.js default index.html\n",
    "    \"\"\"\n",
    "\n",
    "    # Read the default index.html as a string    \n",
    "    s = open('reveal.js-master/index.html', 'r').read()\n",
    "\n",
    "    # edit the string and save it as template.html\n",
    "    s = s.replace('\"dist', '\"../reveal.js-master/dist')\n",
    "    s = s.replace('\"plugin', '\"../reveal.js-master/plugin')\n",
    "    s = s.replace('<section>Slide 1</section>\\n\\t\\t\\t\\t<section>Slide 2</section>',\n",
    "              '{% for image in images %}\\n\\t\\t\\t\\t\\t<section> <img src=\"../{{ image }}\"> </section>\\n\\t\\t\\t\\t{% endfor %}')\n",
    "\n",
    "    with open('template.html', 'w') as f:\n",
    "        f.write(s)"
   ]
  },
  {
   "cell_type": "code",
   "execution_count": 6,
   "id": "9c13f3dc",
   "metadata": {
    "execution": {
     "iopub.execute_input": "2021-11-02T19:49:25.897041Z",
     "iopub.status.busy": "2021-11-02T19:49:25.896740Z",
     "iopub.status.idle": "2021-11-02T19:49:25.898174Z",
     "shell.execute_reply": "2021-11-02T19:49:25.898401Z"
    },
    "papermill": {
     "duration": 0.008831,
     "end_time": "2021-11-02T19:49:25.898473",
     "exception": false,
     "start_time": "2021-11-02T19:49:25.889642",
     "status": "completed"
    },
    "tags": []
   },
   "outputs": [],
   "source": [
    "def create_presentation():\n",
    "    \"\"\"\n",
    "    Use the jinja2 template to add slides from the images directory\n",
    "    \"\"\"\n",
    "    \n",
    "    if not os.path.exists('images'):\n",
    "        os.mkdir('images')    \n",
    "    \n",
    "    # Create a directory for the presentation and put a copy of the PDF in it\n",
    "    pdf_name = os.path.basename(PDFPATH).replace('.pdf', '')\n",
    "    os.mkdir(pdf_name)\n",
    "    shutil.copyfile(PDFPATH, f'{pdf_name}/{pdf_name}.pdf')\n",
    "    \n",
    "    # Convert the PDF pages into jpg images and store them in the communal images directory\n",
    "    os.system(f'convert -density 300 {PDFPATH} images/{pdf_name}-%03d.jpg')\n",
    "    images = sorted(glob.glob(f'images/{pdf_name}-???.jpg'))  \n",
    "    print(images)\n",
    "       \n",
    "    templateLoader = jinja2.FileSystemLoader(searchpath=\"./\")\n",
    "    templateEnv = jinja2.Environment(loader=templateLoader)\n",
    "    TEMPLATE_FILE = \"template.html\"\n",
    "    template = templateEnv.get_template(TEMPLATE_FILE)\n",
    "    outputText = template.render({'images': images})\n",
    "\n",
    "    with open(f'{pdf_name}/index.html', 'w') as out:\n",
    "        out.write(outputText)"
   ]
  },
  {
   "cell_type": "code",
   "execution_count": 7,
   "id": "b12e9564",
   "metadata": {
    "execution": {
     "iopub.execute_input": "2021-11-02T19:49:25.909573Z",
     "iopub.status.busy": "2021-11-02T19:49:25.909272Z",
     "iopub.status.idle": "2021-11-02T19:49:25.911080Z",
     "shell.execute_reply": "2021-11-02T19:49:25.910780Z"
    },
    "papermill": {
     "duration": 0.009303,
     "end_time": "2021-11-02T19:49:25.911142",
     "exception": false,
     "start_time": "2021-11-02T19:49:25.901839",
     "status": "completed"
    },
    "tags": []
   },
   "outputs": [],
   "source": [
    "def update_main_index():\n",
    "    \"\"\"\n",
    "    Update the main GitHub pages index\n",
    "    \"\"\"\n",
    "    # Get a list of presentations from the image directory \n",
    "    images = glob.glob('images/*.jpg')\n",
    "    for i, image in enumerate(images):\n",
    "        images[i] = image[7:-8]\n",
    "    presentations = set(images)\n",
    "    presentations = list(presentations)\n",
    "    presentations = sorted(presentations, key=str.casefold)\n",
    "\n",
    "    # Create index page\n",
    "    s = '<h1>HTML (reveal.js) presentations for ALBI-345</h1>\\n'\n",
    "    for presentation in presentations:\n",
    "        s += f'<a href=\"{GITHUB_PAGES}/{presentation}\">{presentation}</a><br>\\n'\n",
    "    with open(\"index.html\", \"w\") as f:\n",
    "        f.write(s)"
   ]
  },
  {
   "cell_type": "code",
   "execution_count": 8,
   "id": "192bb593",
   "metadata": {
    "execution": {
     "iopub.execute_input": "2021-11-02T19:49:25.921024Z",
     "iopub.status.busy": "2021-11-02T19:49:25.920724Z",
     "iopub.status.idle": "2021-11-02T19:49:58.426801Z",
     "shell.execute_reply": "2021-11-02T19:49:58.427056Z"
    },
    "papermill": {
     "duration": 32.512676,
     "end_time": "2021-11-02T19:49:58.427143",
     "exception": false,
     "start_time": "2021-11-02T19:49:25.914467",
     "status": "completed"
    },
    "tags": []
   },
   "outputs": [
    {
     "name": "stdout",
     "output_type": "stream",
     "text": [
      "['images/urban-entomology-000.jpg', 'images/urban-entomology-001.jpg', 'images/urban-entomology-002.jpg', 'images/urban-entomology-003.jpg', 'images/urban-entomology-004.jpg', 'images/urban-entomology-005.jpg', 'images/urban-entomology-006.jpg', 'images/urban-entomology-007.jpg', 'images/urban-entomology-008.jpg', 'images/urban-entomology-009.jpg', 'images/urban-entomology-010.jpg', 'images/urban-entomology-011.jpg', 'images/urban-entomology-012.jpg', 'images/urban-entomology-013.jpg', 'images/urban-entomology-014.jpg', 'images/urban-entomology-015.jpg', 'images/urban-entomology-016.jpg', 'images/urban-entomology-017.jpg', 'images/urban-entomology-018.jpg', 'images/urban-entomology-019.jpg', 'images/urban-entomology-020.jpg', 'images/urban-entomology-021.jpg', 'images/urban-entomology-022.jpg', 'images/urban-entomology-023.jpg', 'images/urban-entomology-024.jpg', 'images/urban-entomology-025.jpg', 'images/urban-entomology-026.jpg', 'images/urban-entomology-027.jpg', 'images/urban-entomology-028.jpg', 'images/urban-entomology-029.jpg', 'images/urban-entomology-030.jpg', 'images/urban-entomology-031.jpg', 'images/urban-entomology-032.jpg', 'images/urban-entomology-033.jpg', 'images/urban-entomology-034.jpg', 'images/urban-entomology-035.jpg', 'images/urban-entomology-036.jpg', 'images/urban-entomology-037.jpg', 'images/urban-entomology-038.jpg', 'images/urban-entomology-039.jpg']\n",
      "Finished converting /home/aubrey/ALBI-345/files/pdfs/urban-entomology.pdf\n",
      "Do not forget to update git and push to GitHub.\n"
     ]
    }
   ],
   "source": [
    "# MAIN\n",
    "\n",
    "PRESENTATION = os.path.basename(PDFPATH).replace('.pdf', '')\n",
    "if not os.path.exists('reveal.js-master'):\n",
    "    install_reveal()\n",
    "    create_template()\n",
    "create_presentation()\n",
    "update_main_index()\n",
    "print(f'Finished converting {PDFPATH}')\n",
    "print('Do not forget to update git and push to GitHub.')"
   ]
  }
 ],
 "metadata": {
  "kernelspec": {
   "display_name": "Python 3",
   "language": "python",
   "name": "python3"
  },
  "language_info": {
   "codemirror_mode": {
    "name": "ipython",
    "version": 3
   },
   "file_extension": ".py",
   "mimetype": "text/x-python",
   "name": "python",
   "nbconvert_exporter": "python",
   "pygments_lexer": "ipython3",
   "version": "3.8.10"
  },
  "papermill": {
   "default_parameters": {},
   "duration": 33.514855,
   "end_time": "2021-11-02T19:49:58.636285",
   "environment_variables": {},
   "exception": null,
   "input_path": "pdf2reveal.ipynb",
   "output_path": "out.ipynb",
   "parameters": {
    "PDFPATH": "/home/aubrey/ALBI-345/files/pdfs/urban-entomology.pdf"
   },
   "start_time": "2021-11-02T19:49:25.121430",
   "version": "2.3.3"
  }
 },
 "nbformat": 4,
 "nbformat_minor": 5
}