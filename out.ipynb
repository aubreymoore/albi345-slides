{
 "cells": [
  {
   "cell_type": "markdown",
   "id": "3332a35e",
   "metadata": {
    "papermill": {
     "duration": 0.00637,
     "end_time": "2021-09-04T09:51:20.824876",
     "exception": false,
     "start_time": "2021-09-04T09:51:20.818506",
     "status": "completed"
    },
    "tags": []
   },
   "source": [
    "# pdf2reveal\n",
    "This notebook transforms a presentation PDF made using LibreOffice Impress, Microsoft Powerpoint or Latex Beamer into HTML (reveal.js). This allows displaying the presentation on any device running a web browser. \n",
    "\n",
    "I wrote this so that I can present lecture slides on a Promethean without having to connect my computer. \n",
    "\n",
    "### Technical details\n",
    "\n",
    "###### Initialization\n",
    "\n",
    "During the initial run of this notebook, the **install_reveal** function installed the latest version of **reveal.js** which was **4.1.3**. The **create_template** function then created a **jinja2** template by editing \n",
    "**reveal.js-master/index.html**. Note that my notebook code may break if a later version of **reveal.js** is installed.\n",
    "\n",
    "###### GitHub repository\n",
    "A copy of this notebook and all files and directories created by it is maintained in a GitHub repository at https://github.com/aubreymoore/albi345-slides. This repo serves GitHub pages at https://aubreymoore.github.io/albi345-slides/. \n",
    "\n",
    "###### Example usage\n",
    "```\n",
    "papermill \\ \n",
    "-p PDFPATH /home/aubrey/ALBI-345/files/pdfs/Orders-with-Complete-Metamorphosis.pdf \\ \n",
    "pdf2reveal.ipynb \\ \n",
    "out.ipynb\n",
    "```\n",
    "After running this example and pushing the local repo to gitHub, the online HTML (reveal.js) presentation will be available at \n",
    "https://aubreymoore.github.io/albi345-slides/Orders-with-Complete-Metamorphosis\n",
    "\n",
    "###### Example bash script\n",
    "```bash\n",
    "#!/bin/bash\n",
    "echo \"$1\"\n",
    "if test -f \"$1\"\n",
    "then\n",
    "    papermill -p PDFPATH $1 pdf2reveal.ipynb out.ipynb\n",
    "\tgit pull\n",
    "\tgit add .\n",
    "\tgit commit \"$1\"\n",
    "\tgit push\n",
    "else\n",
    "    echo(\"ERROR: Cannot find PDF at $1\")\n",
    "fi\n",
    "```\n",
    "\n",
    "###### Directory structure:\n",
    "```\n",
    "pdf2reveal.ipynb          This notebook.\n",
    "index.html                Recreated every time this notebook is run. Index of presentations.\n",
    "template.html             Created during intitial run of this notebook.\n",
    "out.ipynb                 Created when running this notebook using papermill. Useful for error checking.\n",
    "reveal.js-master (dir)    Created during intitial run of this notebook.\n",
    "images (dir)              Created during intitial run of this notebook.\n",
    "   presentation1-000.jpg  Created when PDFPATH is \"*/presentation1.pdf\"\n",
    "   presentation1-001.jpg  Created when PDFPATH is \"*/presentation1.pdf\"\n",
    "   ...\n",
    "   presentation2-000.jpg  Created when PDFPATH is \"*/presentation2.pdf\"\n",
    "   presentation2-001.jpg  Created when PDFPATH is \"*/presentation2.pdf\"\n",
    "   ...\n",
    "presentation1 (dir)       Created when PDFPATH is \"*/presentation1.pdf\"\n",
    "   presentation1.pdf      Created when PDFPATH is \"*/presentation1.pdf\" Copy of original PDF.\n",
    "   index.html             Created when PDFPATH is \"*/presentation1.pdf\" This is the HTML presentation.  \n",
    "presentation2 (dir)       Created when PDFPATH is \"*/presentation2.pdf\"\n",
    "   presentation2.pdf      Created when PDFPATH is \"*/presentation2.pdf\" Copy of original PDF.\n",
    "   index.html             Created when PDFPATH is \"*/presentation2.pdf\" This is the HTML presentation.\n",
    "```\n",
    "\n",
    "##### Fixing imagemagick problems\n",
    "This notebook uses the **convert** command, which is part of **imagemagick** to convert PDFs to images.\n",
    "Had some initial problems which were fixed by changing a few lines in the config file **/etc/ImageMagick-6/policy.xml**:\n",
    "```\n",
    "<policy domain=\"coder\" rights=\"none\" pattern=\"PDF\" />\n",
    "<policy domain=\"resource\" name=\"memory\" value=\"256MiB\"/>\n",
    "<policy domain=\"resource\" name=\"disk\" value=\"1GiB\"/>\n",
    "```\n",
    "where changed to:\n",
    "```\n",
    "<!--  <policy domain=\"coder\" rights=\"none\" pattern=\"PDF\" />  -->\n",
    "<policy domain=\"resource\" name=\"memory\" value=\"8GiB\"/>\n",
    "<policy domain=\"resource\" name=\"disk\" value=\"8GiB\"/>\n",
    "```\n",
    "### References\n",
    "* https://marcus-baw.medium.com/using-reveal-js-a74b30e4065b\n",
    "* https://martinomensio.medium.com/how-to-host-reveal-js-slides-on-github-pages-and-have-a-tidy-repository-1a363944c38d\n",
    "* https://superuser.com/questions/1178666/imagemagick-convert-quits-after-some-pages"
   ]
  },
  {
   "cell_type": "code",
   "execution_count": 1,
   "id": "ba28ba4e",
   "metadata": {
    "execution": {
     "iopub.execute_input": "2021-09-04T09:51:20.841418Z",
     "iopub.status.busy": "2021-09-04T09:51:20.840881Z",
     "iopub.status.idle": "2021-09-04T09:51:20.921846Z",
     "shell.execute_reply": "2021-09-04T09:51:20.921439Z"
    },
    "papermill": {
     "duration": 0.090067,
     "end_time": "2021-09-04T09:51:20.921930",
     "exception": false,
     "start_time": "2021-09-04T09:51:20.831863",
     "status": "completed"
    },
    "tags": []
   },
   "outputs": [],
   "source": [
    "import os\n",
    "import requests, zipfile, io\n",
    "import jinja2\n",
    "import glob\n",
    "import shutil"
   ]
  },
  {
   "cell_type": "code",
   "execution_count": 2,
   "id": "4229e212",
   "metadata": {
    "execution": {
     "iopub.execute_input": "2021-09-04T09:51:20.931892Z",
     "iopub.status.busy": "2021-09-04T09:51:20.931544Z",
     "iopub.status.idle": "2021-09-04T09:51:20.933459Z",
     "shell.execute_reply": "2021-09-04T09:51:20.933096Z"
    },
    "papermill": {
     "duration": 0.008271,
     "end_time": "2021-09-04T09:51:20.933576",
     "exception": false,
     "start_time": "2021-09-04T09:51:20.925305",
     "status": "completed"
    },
    "tags": [
     "parameters"
    ]
   },
   "outputs": [],
   "source": [
    "# Parameters which may be set using papermill\n",
    "PDFPATH = '/home/aubrey/Downloads/applied-ent.pdf'\n",
    "GITHUB_REPO='https://github.com/aubreymoore/albi345-slides'\n",
    "GITHUB_PAGES='https://aubreymoore.github.io/albi345-slides'"
   ]
  },
  {
   "cell_type": "code",
   "execution_count": 3,
   "id": "e899c001",
   "metadata": {
    "execution": {
     "iopub.execute_input": "2021-09-04T09:51:20.942807Z",
     "iopub.status.busy": "2021-09-04T09:51:20.942497Z",
     "iopub.status.idle": "2021-09-04T09:51:20.944294Z",
     "shell.execute_reply": "2021-09-04T09:51:20.943957Z"
    },
    "papermill": {
     "duration": 0.007167,
     "end_time": "2021-09-04T09:51:20.944365",
     "exception": false,
     "start_time": "2021-09-04T09:51:20.937198",
     "status": "completed"
    },
    "tags": [
     "injected-parameters"
    ]
   },
   "outputs": [],
   "source": [
    "# Parameters\n",
    "PDFPATH = \"/home/aubrey/ALBI-345/files/pdfs/external_morphology.pdf\"\n"
   ]
  },
  {
   "cell_type": "code",
   "execution_count": 4,
   "id": "a08ffdab",
   "metadata": {
    "execution": {
     "iopub.execute_input": "2021-09-04T09:51:20.955027Z",
     "iopub.status.busy": "2021-09-04T09:51:20.954706Z",
     "iopub.status.idle": "2021-09-04T09:51:20.956326Z",
     "shell.execute_reply": "2021-09-04T09:51:20.956012Z"
    },
    "papermill": {
     "duration": 0.008417,
     "end_time": "2021-09-04T09:51:20.956398",
     "exception": false,
     "start_time": "2021-09-04T09:51:20.947981",
     "status": "completed"
    },
    "tags": []
   },
   "outputs": [],
   "source": [
    "def install_reveal():\n",
    "    \"\"\"\n",
    "    Download and install the latest version of reveal.js.\n",
    "    \"\"\"\n",
    "    if not os.path.exists('reveal.js-master'):\n",
    "        r = requests.get('https://github.com/hakimel/reveal.js/archive/master.zip')\n",
    "        z = zipfile.ZipFile(io.BytesIO(r.content))\n",
    "        z.extractall()"
   ]
  },
  {
   "cell_type": "code",
   "execution_count": 5,
   "id": "1124eae3",
   "metadata": {
    "execution": {
     "iopub.execute_input": "2021-09-04T09:51:20.967332Z",
     "iopub.status.busy": "2021-09-04T09:51:20.966987Z",
     "iopub.status.idle": "2021-09-04T09:51:20.968206Z",
     "shell.execute_reply": "2021-09-04T09:51:20.968467Z"
    },
    "papermill": {
     "duration": 0.008731,
     "end_time": "2021-09-04T09:51:20.968557",
     "exception": false,
     "start_time": "2021-09-04T09:51:20.959826",
     "status": "completed"
    },
    "tags": []
   },
   "outputs": [],
   "source": [
    "def create_template():\n",
    "    \"\"\"\n",
    "    Create a jinja2 template by editing the reveal.js default index.html\n",
    "    \"\"\"\n",
    "\n",
    "    # Read the default index.html as a string    \n",
    "    s = open('reveal.js-master/index.html', 'r').read()\n",
    "\n",
    "    # edit the string and save it as template.html\n",
    "    s = s.replace('\"dist', '\"../reveal.js-master/dist')\n",
    "    s = s.replace('\"plugin', '\"../reveal.js-master/plugin')\n",
    "    s = s.replace('<section>Slide 1</section>\\n\\t\\t\\t\\t<section>Slide 2</section>',\n",
    "              '{% for image in images %}\\n\\t\\t\\t\\t\\t<section> <img src=\"../{{ image }}\"> </section>\\n\\t\\t\\t\\t{% endfor %}')\n",
    "\n",
    "    with open('template.html', 'w') as f:\n",
    "        f.write(s)"
   ]
  },
  {
   "cell_type": "code",
   "execution_count": 6,
   "id": "9c13f3dc",
   "metadata": {
    "execution": {
     "iopub.execute_input": "2021-09-04T09:51:20.980788Z",
     "iopub.status.busy": "2021-09-04T09:51:20.980458Z",
     "iopub.status.idle": "2021-09-04T09:51:20.982172Z",
     "shell.execute_reply": "2021-09-04T09:51:20.981854Z"
    },
    "papermill": {
     "duration": 0.010022,
     "end_time": "2021-09-04T09:51:20.982244",
     "exception": false,
     "start_time": "2021-09-04T09:51:20.972222",
     "status": "completed"
    },
    "tags": []
   },
   "outputs": [],
   "source": [
    "def create_presentation():\n",
    "    \"\"\"\n",
    "    Use the jinja2 template to add slides from the images directory\n",
    "    \"\"\"\n",
    "    \n",
    "    if not os.path.exists('images'):\n",
    "        os.mkdir('images')    \n",
    "    \n",
    "    # Create a directory for the presentation and put a copy of the PDF in it\n",
    "    pdf_name = os.path.basename(PDFPATH).replace('.pdf', '')\n",
    "    os.mkdir(pdf_name)\n",
    "    shutil.copyfile(PDFPATH, f'{pdf_name}/{pdf_name}.pdf')\n",
    "    \n",
    "    # Convert the PDF pages into jpg images and store them in the communal images directory\n",
    "    os.system(f'convert -density 300 {PDFPATH} images/{pdf_name}-%03d.jpg')\n",
    "    images = sorted(glob.glob(f'images/{pdf_name}-???.jpg'))  \n",
    "    print(images)\n",
    "       \n",
    "    templateLoader = jinja2.FileSystemLoader(searchpath=\"./\")\n",
    "    templateEnv = jinja2.Environment(loader=templateLoader)\n",
    "    TEMPLATE_FILE = \"template.html\"\n",
    "    template = templateEnv.get_template(TEMPLATE_FILE)\n",
    "    outputText = template.render({'images': images})\n",
    "\n",
    "    with open(f'{pdf_name}/index.html', 'w') as out:\n",
    "        out.write(outputText)"
   ]
  },
  {
   "cell_type": "code",
   "execution_count": 7,
   "id": "b12e9564",
   "metadata": {
    "execution": {
     "iopub.execute_input": "2021-09-04T09:51:20.993541Z",
     "iopub.status.busy": "2021-09-04T09:51:20.993111Z",
     "iopub.status.idle": "2021-09-04T09:51:20.994849Z",
     "shell.execute_reply": "2021-09-04T09:51:20.994527Z"
    },
    "papermill": {
     "duration": 0.009046,
     "end_time": "2021-09-04T09:51:20.994925",
     "exception": false,
     "start_time": "2021-09-04T09:51:20.985879",
     "status": "completed"
    },
    "tags": []
   },
   "outputs": [],
   "source": [
    "# https://aubreymoore.github.io/albi345-slides/applied-ent/\n",
    "\n",
    "def update_main_index():\n",
    "    \"\"\"\n",
    "    Update the main GitHub pages index\n",
    "    \"\"\"\n",
    "    # Get a list of presentations from the image directory \n",
    "    images = glob.glob('images/*.jpg')\n",
    "    for i, image in enumerate(images):\n",
    "        images[i] = image[7:-8]\n",
    "    presentations = list(set(images))\n",
    "\n",
    "    # Create index page\n",
    "    s = '<h1>HTML (reveal.js) presentations</h1>\\n'\n",
    "    for presentation in presentations:\n",
    "        s += f'<a href=\"{GITHUB_PAGES}/{presentation}\">{presentation}</a><br>\\n'\n",
    "    with open(\"index.html\", \"w\") as f:\n",
    "        f.write(s)"
   ]
  },
  {
   "cell_type": "code",
   "execution_count": 8,
   "id": "192bb593",
   "metadata": {
    "execution": {
     "iopub.execute_input": "2021-09-04T09:51:21.006143Z",
     "iopub.status.busy": "2021-09-04T09:51:21.005804Z",
     "iopub.status.idle": "2021-09-04T09:51:52.530453Z",
     "shell.execute_reply": "2021-09-04T09:51:52.530719Z"
    },
    "papermill": {
     "duration": 31.532089,
     "end_time": "2021-09-04T09:51:52.530811",
     "exception": false,
     "start_time": "2021-09-04T09:51:20.998722",
     "status": "completed"
    },
    "tags": []
   },
   "outputs": [
    {
     "name": "stdout",
     "output_type": "stream",
     "text": [
      "['images/external_morphology-000.jpg', 'images/external_morphology-001.jpg', 'images/external_morphology-002.jpg', 'images/external_morphology-003.jpg', 'images/external_morphology-004.jpg', 'images/external_morphology-005.jpg', 'images/external_morphology-006.jpg', 'images/external_morphology-007.jpg', 'images/external_morphology-008.jpg', 'images/external_morphology-009.jpg', 'images/external_morphology-010.jpg', 'images/external_morphology-011.jpg', 'images/external_morphology-012.jpg', 'images/external_morphology-013.jpg', 'images/external_morphology-014.jpg', 'images/external_morphology-015.jpg', 'images/external_morphology-016.jpg', 'images/external_morphology-017.jpg', 'images/external_morphology-018.jpg', 'images/external_morphology-019.jpg', 'images/external_morphology-020.jpg', 'images/external_morphology-021.jpg', 'images/external_morphology-022.jpg', 'images/external_morphology-023.jpg', 'images/external_morphology-024.jpg', 'images/external_morphology-025.jpg', 'images/external_morphology-026.jpg', 'images/external_morphology-027.jpg', 'images/external_morphology-028.jpg', 'images/external_morphology-029.jpg', 'images/external_morphology-030.jpg', 'images/external_morphology-031.jpg', 'images/external_morphology-032.jpg', 'images/external_morphology-033.jpg', 'images/external_morphology-034.jpg', 'images/external_morphology-035.jpg', 'images/external_morphology-036.jpg', 'images/external_morphology-037.jpg', 'images/external_morphology-038.jpg', 'images/external_morphology-039.jpg', 'images/external_morphology-040.jpg', 'images/external_morphology-041.jpg', 'images/external_morphology-042.jpg', 'images/external_morphology-043.jpg', 'images/external_morphology-044.jpg', 'images/external_morphology-045.jpg', 'images/external_morphology-046.jpg', 'images/external_morphology-047.jpg', 'images/external_morphology-048.jpg', 'images/external_morphology-049.jpg']\n",
      "Finished converting /home/aubrey/ALBI-345/files/pdfs/external_morphology.pdf\n",
      "Do not forget to update git and push to GitHub.\n"
     ]
    }
   ],
   "source": [
    "# MAIN\n",
    "\n",
    "PRESENTATION = os.path.basename(PDFPATH).replace('.pdf', '')\n",
    "if not os.path.exists('reveal.js-master'):\n",
    "    install_reveal()\n",
    "    create_template()\n",
    "create_presentation()\n",
    "update_main_index()\n",
    "print(f'Finished converting {PDFPATH}')\n",
    "print('Do not forget to update git and push to GitHub.')"
   ]
  }
 ],
 "metadata": {
  "kernelspec": {
   "display_name": "Python 3",
   "language": "python",
   "name": "python3"
  },
  "language_info": {
   "codemirror_mode": {
    "name": "ipython",
    "version": 3
   },
   "file_extension": ".py",
   "mimetype": "text/x-python",
   "name": "python",
   "nbconvert_exporter": "python",
   "pygments_lexer": "ipython3",
   "version": "3.8.10"
  },
  "papermill": {
   "default_parameters": {},
   "duration": 32.581629,
   "end_time": "2021-09-04T09:51:52.740212",
   "environment_variables": {},
   "exception": null,
   "input_path": "pdf2reveal.ipynb",
   "output_path": "out.ipynb",
   "parameters": {
    "PDFPATH": "/home/aubrey/ALBI-345/files/pdfs/external_morphology.pdf"
   },
   "start_time": "2021-09-04T09:51:20.158583",
   "version": "2.3.3"
  }
 },
 "nbformat": 4,
 "nbformat_minor": 5
}