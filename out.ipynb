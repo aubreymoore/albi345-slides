{
 "cells": [
  {
   "cell_type": "markdown",
   "id": "b39daba5",
   "metadata": {
    "tags": [
     "papermill-error-cell-tag"
    ]
   },
   "source": [
    "<span style=\"color:red; font-family:Helvetica Neue, Helvetica, Arial, sans-serif; font-size:2em;\">An Exception was encountered at '<a href=\"#papermill-error-cell\">In [8]</a>'.</span>"
   ]
  },
  {
   "cell_type": "markdown",
   "id": "3332a35e",
   "metadata": {
    "papermill": {
     "duration": 0.007768,
     "end_time": "2021-11-09T20:14:50.735880",
     "exception": false,
     "start_time": "2021-11-09T20:14:50.728112",
     "status": "completed"
    },
    "tags": []
   },
   "source": [
    "# pdf2reveal\n",
    "This notebook transforms a presentation PDF made using LibreOffice Impress, Microsoft Powerpoint or Latex Beamer into HTML (reveal.js). This allows displaying the presentation on any device running a web browser. \n",
    "\n",
    "I wrote this so that I can present lecture slides on a Promethean without having to connect my computer. \n",
    "\n",
    "### Technical details\n",
    "\n",
    "###### Initialization\n",
    "\n",
    "During the initial run of this notebook, the **install_reveal** function installed the latest version of **reveal.js** which was **4.1.3**. The **create_template** function then created a **jinja2** template by editing \n",
    "**reveal.js-master/index.html**. Note that my notebook code may break if a later version of **reveal.js** is installed.\n",
    "\n",
    "###### GitHub repository\n",
    "A copy of this notebook and all files and directories created by it is maintained in a GitHub repository at https://github.com/aubreymoore/albi345-slides. This repo serves GitHub pages at https://aubreymoore.github.io/albi345-slides/. \n",
    "\n",
    "###### Example usage\n",
    "```\n",
    "papermill \\ \n",
    "-p PDFPATH /home/aubrey/ALBI-345/files/pdfs/Orders-with-Complete-Metamorphosis.pdf \\ \n",
    "pdf2reveal.ipynb \\ \n",
    "out.ipynb\n",
    "```\n",
    "After running this example and pushing the local repo to gitHub, the online HTML (reveal.js) presentation will be available at \n",
    "https://aubreymoore.github.io/albi345-slides/Orders-with-Complete-Metamorphosis\n",
    "\n",
    "###### Example bash script\n",
    "\n",
    "Example usage: ./pdf2reveal.sh ~/ALBI-345/files/pdfs/urban-entomology.pdf \n",
    "\n",
    "```bash\n",
    "#!/bin/bash\n",
    "echo $1\n",
    "if test -r $1\n",
    "then\n",
    "    papermill -p PDFPATH $1 pdf2reveal.ipynb out.ipynb\n",
    "\tgit pull\n",
    "\tgit add .\n",
    "\tgit commit -m \"$1\"\n",
    "\tgit push\n",
    "else\n",
    "    echo \"ERROR: Cannot find PDF at $1\"\n",
    "fi\n",
    "```\n",
    "\n",
    "###### Directory structure:\n",
    "```\n",
    "pdf2reveal.ipynb          This notebook.\n",
    "index.html                Recreated every time this notebook is run. Index of presentations.\n",
    "template.html             Created during intitial run of this notebook.\n",
    "out.ipynb                 Created when running this notebook using papermill. Useful for error checking.\n",
    "reveal.js-master (dir)    Created during intitial run of this notebook.\n",
    "images (dir)              Created during intitial run of this notebook.\n",
    "   presentation1-000.jpg  Created when PDFPATH is \"*/presentation1.pdf\"\n",
    "   presentation1-001.jpg  Created when PDFPATH is \"*/presentation1.pdf\"\n",
    "   ...\n",
    "   presentation2-000.jpg  Created when PDFPATH is \"*/presentation2.pdf\"\n",
    "   presentation2-001.jpg  Created when PDFPATH is \"*/presentation2.pdf\"\n",
    "   ...\n",
    "presentation1 (dir)       Created when PDFPATH is \"*/presentation1.pdf\"\n",
    "   presentation1.pdf      Created when PDFPATH is \"*/presentation1.pdf\" Copy of original PDF.\n",
    "   index.html             Created when PDFPATH is \"*/presentation1.pdf\" This is the HTML presentation.  \n",
    "presentation2 (dir)       Created when PDFPATH is \"*/presentation2.pdf\"\n",
    "   presentation2.pdf      Created when PDFPATH is \"*/presentation2.pdf\" Copy of original PDF.\n",
    "   index.html             Created when PDFPATH is \"*/presentation2.pdf\" This is the HTML presentation.\n",
    "```\n",
    "\n",
    "##### Fixing imagemagick problems\n",
    "This notebook uses the **convert** command, which is part of **imagemagick** to convert PDFs to images.\n",
    "Had some initial problems which were fixed by changing a few lines in the config file **/etc/ImageMagick-6/policy.xml**:\n",
    "```\n",
    "<policy domain=\"coder\" rights=\"none\" pattern=\"PDF\" />\n",
    "<policy domain=\"resource\" name=\"memory\" value=\"256MiB\"/>\n",
    "<policy domain=\"resource\" name=\"disk\" value=\"1GiB\"/>\n",
    "```\n",
    "where changed to:\n",
    "```\n",
    "<!--  <policy domain=\"coder\" rights=\"none\" pattern=\"PDF\" />  -->\n",
    "<policy domain=\"resource\" name=\"memory\" value=\"8GiB\"/>\n",
    "<policy domain=\"resource\" name=\"disk\" value=\"8GiB\"/>\n",
    "```\n",
    "### References\n",
    "* https://marcus-baw.medium.com/using-reveal-js-a74b30e4065b\n",
    "* https://martinomensio.medium.com/how-to-host-reveal-js-slides-on-github-pages-and-have-a-tidy-repository-1a363944c38d\n",
    "* https://superuser.com/questions/1178666/imagemagick-convert-quits-after-some-pages"
   ]
  },
  {
   "cell_type": "code",
   "execution_count": 1,
   "id": "ba28ba4e",
   "metadata": {
    "execution": {
     "iopub.execute_input": "2021-11-09T20:14:50.745523Z",
     "iopub.status.busy": "2021-11-09T20:14:50.745196Z",
     "iopub.status.idle": "2021-11-09T20:14:50.806397Z",
     "shell.execute_reply": "2021-11-09T20:14:50.806113Z"
    },
    "papermill": {
     "duration": 0.066876,
     "end_time": "2021-11-09T20:14:50.806480",
     "exception": false,
     "start_time": "2021-11-09T20:14:50.739604",
     "status": "completed"
    },
    "tags": []
   },
   "outputs": [],
   "source": [
    "import os\n",
    "import requests, zipfile, io\n",
    "import jinja2\n",
    "import glob\n",
    "import shutil"
   ]
  },
  {
   "cell_type": "code",
   "execution_count": 2,
   "id": "4229e212",
   "metadata": {
    "execution": {
     "iopub.execute_input": "2021-11-09T20:14:50.815275Z",
     "iopub.status.busy": "2021-11-09T20:14:50.814977Z",
     "iopub.status.idle": "2021-11-09T20:14:50.816777Z",
     "shell.execute_reply": "2021-11-09T20:14:50.816477Z"
    },
    "papermill": {
     "duration": 0.006939,
     "end_time": "2021-11-09T20:14:50.816839",
     "exception": false,
     "start_time": "2021-11-09T20:14:50.809900",
     "status": "completed"
    },
    "tags": [
     "parameters"
    ]
   },
   "outputs": [],
   "source": [
    "# Parameters which may be set using papermill\n",
    "PDFPATH = '/home/aubrey/Downloads/SWCD-2021-07-30.pdf'\n",
    "GITHUB_REPO='https://github.com/aubreymoore/albi345-slides'\n",
    "GITHUB_PAGES='https://aubreymoore.github.io/albi345-slides'"
   ]
  },
  {
   "cell_type": "code",
   "execution_count": 3,
   "id": "320cbb9f",
   "metadata": {
    "execution": {
     "iopub.execute_input": "2021-11-09T20:14:50.825157Z",
     "iopub.status.busy": "2021-11-09T20:14:50.824862Z",
     "iopub.status.idle": "2021-11-09T20:14:50.826689Z",
     "shell.execute_reply": "2021-11-09T20:14:50.826347Z"
    },
    "papermill": {
     "duration": 0.006739,
     "end_time": "2021-11-09T20:14:50.826763",
     "exception": false,
     "start_time": "2021-11-09T20:14:50.820024",
     "status": "completed"
    },
    "tags": [
     "injected-parameters"
    ]
   },
   "outputs": [],
   "source": [
    "# Parameters\n",
    "PDFPATH = \"/home/aubrey/ALBI-345/files/pdfs/urban-entomology.pdf\"\n"
   ]
  },
  {
   "cell_type": "code",
   "execution_count": 4,
   "id": "a08ffdab",
   "metadata": {
    "execution": {
     "iopub.execute_input": "2021-11-09T20:14:50.836082Z",
     "iopub.status.busy": "2021-11-09T20:14:50.835784Z",
     "iopub.status.idle": "2021-11-09T20:14:50.837690Z",
     "shell.execute_reply": "2021-11-09T20:14:50.837382Z"
    },
    "papermill": {
     "duration": 0.007651,
     "end_time": "2021-11-09T20:14:50.837751",
     "exception": false,
     "start_time": "2021-11-09T20:14:50.830100",
     "status": "completed"
    },
    "tags": []
   },
   "outputs": [],
   "source": [
    "def install_reveal():\n",
    "    \"\"\"\n",
    "    Download and install the latest version of reveal.js.\n",
    "    \"\"\"\n",
    "    if not os.path.exists('reveal.js-master'):\n",
    "        r = requests.get('https://github.com/hakimel/reveal.js/archive/master.zip')\n",
    "        z = zipfile.ZipFile(io.BytesIO(r.content))\n",
    "        z.extractall()"
   ]
  },
  {
   "cell_type": "code",
   "execution_count": 5,
   "id": "1124eae3",
   "metadata": {
    "execution": {
     "iopub.execute_input": "2021-11-09T20:14:50.848006Z",
     "iopub.status.busy": "2021-11-09T20:14:50.847697Z",
     "iopub.status.idle": "2021-11-09T20:14:50.849682Z",
     "shell.execute_reply": "2021-11-09T20:14:50.849352Z"
    },
    "papermill": {
     "duration": 0.008276,
     "end_time": "2021-11-09T20:14:50.849745",
     "exception": false,
     "start_time": "2021-11-09T20:14:50.841469",
     "status": "completed"
    },
    "tags": []
   },
   "outputs": [],
   "source": [
    "def create_template():\n",
    "    \"\"\"\n",
    "    Create a jinja2 template by editing the reveal.js default index.html\n",
    "    \"\"\"\n",
    "\n",
    "    # Read the default index.html as a string    \n",
    "    s = open('reveal.js-master/index.html', 'r').read()\n",
    "\n",
    "    # edit the string and save it as template.html\n",
    "    s = s.replace('\"dist', '\"../reveal.js-master/dist')\n",
    "    s = s.replace('\"plugin', '\"../reveal.js-master/plugin')\n",
    "    s = s.replace('<section>Slide 1</section>\\n\\t\\t\\t\\t<section>Slide 2</section>',\n",
    "              '{% for image in images %}\\n\\t\\t\\t\\t\\t<section> <img src=\"../{{ image }}\"> </section>\\n\\t\\t\\t\\t{% endfor %}')\n",
    "\n",
    "    with open('template.html', 'w') as f:\n",
    "        f.write(s)"
   ]
  },
  {
   "cell_type": "code",
   "execution_count": 6,
   "id": "9c13f3dc",
   "metadata": {
    "execution": {
     "iopub.execute_input": "2021-11-09T20:14:50.860911Z",
     "iopub.status.busy": "2021-11-09T20:14:50.860593Z",
     "iopub.status.idle": "2021-11-09T20:14:50.862230Z",
     "shell.execute_reply": "2021-11-09T20:14:50.861965Z"
    },
    "papermill": {
     "duration": 0.009009,
     "end_time": "2021-11-09T20:14:50.862316",
     "exception": false,
     "start_time": "2021-11-09T20:14:50.853307",
     "status": "completed"
    },
    "tags": []
   },
   "outputs": [],
   "source": [
    "def create_presentation():\n",
    "    \"\"\"\n",
    "    Use the jinja2 template to add slides from the images directory\n",
    "    \"\"\"\n",
    "    \n",
    "    if not os.path.exists('images'):\n",
    "        os.mkdir('images')    \n",
    "    \n",
    "    # Create a directory for the presentation and put a copy of the PDF in it\n",
    "    pdf_name = os.path.basename(PDFPATH).replace('.pdf', '')\n",
    "    os.mkdir(pdf_name)\n",
    "    shutil.copyfile(PDFPATH, f'{pdf_name}/{pdf_name}.pdf')\n",
    "    \n",
    "    # Convert the PDF pages into jpg images and store them in the communal images directory\n",
    "    os.system(f'convert -density 300 {PDFPATH} images/{pdf_name}-%03d.jpg')\n",
    "    images = sorted(glob.glob(f'images/{pdf_name}-???.jpg'))  \n",
    "    print(images)\n",
    "       \n",
    "    templateLoader = jinja2.FileSystemLoader(searchpath=\"./\")\n",
    "    templateEnv = jinja2.Environment(loader=templateLoader)\n",
    "    TEMPLATE_FILE = \"template.html\"\n",
    "    template = templateEnv.get_template(TEMPLATE_FILE)\n",
    "    outputText = template.render({'images': images})\n",
    "\n",
    "    with open(f'{pdf_name}/index.html', 'w') as out:\n",
    "        out.write(outputText)"
   ]
  },
  {
   "cell_type": "code",
   "execution_count": 7,
   "id": "b12e9564",
   "metadata": {
    "execution": {
     "iopub.execute_input": "2021-11-09T20:14:50.873547Z",
     "iopub.status.busy": "2021-11-09T20:14:50.873235Z",
     "iopub.status.idle": "2021-11-09T20:14:50.875049Z",
     "shell.execute_reply": "2021-11-09T20:14:50.874735Z"
    },
    "papermill": {
     "duration": 0.00927,
     "end_time": "2021-11-09T20:14:50.875115",
     "exception": false,
     "start_time": "2021-11-09T20:14:50.865845",
     "status": "completed"
    },
    "tags": []
   },
   "outputs": [],
   "source": [
    "def update_main_index():\n",
    "    \"\"\"\n",
    "    Update the main GitHub pages index\n",
    "    \"\"\"\n",
    "    # Get a list of presentations from the image directory \n",
    "    images = glob.glob('images/*.jpg')\n",
    "    for i, image in enumerate(images):\n",
    "        images[i] = image[7:-8]\n",
    "    presentations = set(images)\n",
    "    presentations = list(presentations)\n",
    "    presentations = sorted(presentations, key=str.casefold)\n",
    "\n",
    "    # Create index page\n",
    "    s = '<h1>HTML (reveal.js) presentations for ALBI-345</h1>\\n'\n",
    "    for presentation in presentations:\n",
    "        s += f'<a href=\"{GITHUB_PAGES}/{presentation}\">{presentation}</a><br>\\n'\n",
    "    with open(\"index.html\", \"w\") as f:\n",
    "        f.write(s)"
   ]
  },
  {
   "cell_type": "markdown",
   "id": "e80c855e",
   "metadata": {
    "tags": [
     "papermill-error-cell-tag"
    ]
   },
   "source": [
    "<span id=\"papermill-error-cell\" style=\"color:red; font-family:Helvetica Neue, Helvetica, Arial, sans-serif; font-size:2em;\">Execution using papermill encountered an exception here and stopped:</span>"
   ]
  },
  {
   "cell_type": "code",
   "execution_count": 8,
   "id": "192bb593",
   "metadata": {
    "execution": {
     "iopub.execute_input": "2021-11-09T20:14:50.885686Z",
     "iopub.status.busy": "2021-11-09T20:14:50.885125Z",
     "iopub.status.idle": "2021-11-09T20:14:50.915674Z",
     "shell.execute_reply": "2021-11-09T20:14:50.915059Z"
    },
    "papermill": {
     "duration": 0.036929,
     "end_time": "2021-11-09T20:14:50.915800",
     "exception": true,
     "start_time": "2021-11-09T20:14:50.878871",
     "status": "failed"
    },
    "tags": []
   },
   "outputs": [
    {
     "ename": "FileExistsError",
     "evalue": "[Errno 17] File exists: 'urban-entomology'",
     "output_type": "error",
     "traceback": [
      "\u001b[0;31m---------------------------------------------------------------------------\u001b[0m",
      "\u001b[0;31mFileExistsError\u001b[0m                           Traceback (most recent call last)",
      "\u001b[0;32m<ipython-input-8-fc2c175d6367>\u001b[0m in \u001b[0;36m<module>\u001b[0;34m\u001b[0m\n\u001b[1;32m      5\u001b[0m     \u001b[0minstall_reveal\u001b[0m\u001b[0;34m(\u001b[0m\u001b[0;34m)\u001b[0m\u001b[0;34m\u001b[0m\u001b[0;34m\u001b[0m\u001b[0m\n\u001b[1;32m      6\u001b[0m     \u001b[0mcreate_template\u001b[0m\u001b[0;34m(\u001b[0m\u001b[0;34m)\u001b[0m\u001b[0;34m\u001b[0m\u001b[0;34m\u001b[0m\u001b[0m\n\u001b[0;32m----> 7\u001b[0;31m \u001b[0mcreate_presentation\u001b[0m\u001b[0;34m(\u001b[0m\u001b[0;34m)\u001b[0m\u001b[0;34m\u001b[0m\u001b[0;34m\u001b[0m\u001b[0m\n\u001b[0m\u001b[1;32m      8\u001b[0m \u001b[0mupdate_main_index\u001b[0m\u001b[0;34m(\u001b[0m\u001b[0;34m)\u001b[0m\u001b[0;34m\u001b[0m\u001b[0;34m\u001b[0m\u001b[0m\n\u001b[1;32m      9\u001b[0m \u001b[0mprint\u001b[0m\u001b[0;34m(\u001b[0m\u001b[0;34mf'Finished converting {PDFPATH}'\u001b[0m\u001b[0;34m)\u001b[0m\u001b[0;34m\u001b[0m\u001b[0;34m\u001b[0m\u001b[0m\n",
      "\u001b[0;32m<ipython-input-6-c3a9f17113ff>\u001b[0m in \u001b[0;36mcreate_presentation\u001b[0;34m()\u001b[0m\n\u001b[1;32m      9\u001b[0m     \u001b[0;31m# Create a directory for the presentation and put a copy of the PDF in it\u001b[0m\u001b[0;34m\u001b[0m\u001b[0;34m\u001b[0m\u001b[0;34m\u001b[0m\u001b[0m\n\u001b[1;32m     10\u001b[0m     \u001b[0mpdf_name\u001b[0m \u001b[0;34m=\u001b[0m \u001b[0mos\u001b[0m\u001b[0;34m.\u001b[0m\u001b[0mpath\u001b[0m\u001b[0;34m.\u001b[0m\u001b[0mbasename\u001b[0m\u001b[0;34m(\u001b[0m\u001b[0mPDFPATH\u001b[0m\u001b[0;34m)\u001b[0m\u001b[0;34m.\u001b[0m\u001b[0mreplace\u001b[0m\u001b[0;34m(\u001b[0m\u001b[0;34m'.pdf'\u001b[0m\u001b[0;34m,\u001b[0m \u001b[0;34m''\u001b[0m\u001b[0;34m)\u001b[0m\u001b[0;34m\u001b[0m\u001b[0;34m\u001b[0m\u001b[0m\n\u001b[0;32m---> 11\u001b[0;31m     \u001b[0mos\u001b[0m\u001b[0;34m.\u001b[0m\u001b[0mmkdir\u001b[0m\u001b[0;34m(\u001b[0m\u001b[0mpdf_name\u001b[0m\u001b[0;34m)\u001b[0m\u001b[0;34m\u001b[0m\u001b[0;34m\u001b[0m\u001b[0m\n\u001b[0m\u001b[1;32m     12\u001b[0m     \u001b[0mshutil\u001b[0m\u001b[0;34m.\u001b[0m\u001b[0mcopyfile\u001b[0m\u001b[0;34m(\u001b[0m\u001b[0mPDFPATH\u001b[0m\u001b[0;34m,\u001b[0m \u001b[0;34mf'{pdf_name}/{pdf_name}.pdf'\u001b[0m\u001b[0;34m)\u001b[0m\u001b[0;34m\u001b[0m\u001b[0;34m\u001b[0m\u001b[0m\n\u001b[1;32m     13\u001b[0m \u001b[0;34m\u001b[0m\u001b[0m\n",
      "\u001b[0;31mFileExistsError\u001b[0m: [Errno 17] File exists: 'urban-entomology'"
     ]
    }
   ],
   "source": [
    "# MAIN\n",
    "\n",
    "PRESENTATION = os.path.basename(PDFPATH).replace('.pdf', '')\n",
    "if not os.path.exists('reveal.js-master'):\n",
    "    install_reveal()\n",
    "    create_template()\n",
    "create_presentation()\n",
    "update_main_index()\n",
    "print(f'Finished converting {PDFPATH}')\n",
    "print('Do not forget to update git and push to GitHub.')"
   ]
  }
 ],
 "metadata": {
  "kernelspec": {
   "display_name": "Python 3",
   "language": "python",
   "name": "python3"
  },
  "language_info": {
   "codemirror_mode": {
    "name": "ipython",
    "version": 3
   },
   "file_extension": ".py",
   "mimetype": "text/x-python",
   "name": "python",
   "nbconvert_exporter": "python",
   "pygments_lexer": "ipython3",
   "version": "3.8.10"
  },
  "papermill": {
   "default_parameters": {},
   "duration": 1.15041,
   "end_time": "2021-11-09T20:14:51.228316",
   "environment_variables": {},
   "exception": true,
   "input_path": "pdf2reveal.ipynb",
   "output_path": "out.ipynb",
   "parameters": {
    "PDFPATH": "/home/aubrey/ALBI-345/files/pdfs/urban-entomology.pdf"
   },
   "start_time": "2021-11-09T20:14:50.077906",
   "version": "2.3.3"
  }
 },
 "nbformat": 4,
 "nbformat_minor": 5
}