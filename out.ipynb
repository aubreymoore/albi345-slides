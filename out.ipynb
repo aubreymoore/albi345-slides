{
 "cells": [
  {
   "cell_type": "markdown",
   "id": "3332a35e",
   "metadata": {
    "papermill": {
     "duration": 0.007571,
     "end_time": "2021-11-09T20:19:53.647754",
     "exception": false,
     "start_time": "2021-11-09T20:19:53.640183",
     "status": "completed"
    },
    "tags": []
   },
   "source": [
    "# pdf2reveal\n",
    "This notebook transforms a presentation PDF made using LibreOffice Impress, Microsoft Powerpoint or Latex Beamer into HTML (reveal.js). This allows displaying the presentation on any device running a web browser. \n",
    "\n",
    "I wrote this so that I can present lecture slides on a Promethean without having to connect my computer. \n",
    "\n",
    "### Technical details\n",
    "\n",
    "###### Initialization\n",
    "\n",
    "During the initial run of this notebook, the **install_reveal** function installed the latest version of **reveal.js** which was **4.1.3**. The **create_template** function then created a **jinja2** template by editing \n",
    "**reveal.js-master/index.html**. Note that my notebook code may break if a later version of **reveal.js** is installed.\n",
    "\n",
    "###### GitHub repository\n",
    "A copy of this notebook and all files and directories created by it is maintained in a GitHub repository at https://github.com/aubreymoore/albi345-slides. This repo serves GitHub pages at https://aubreymoore.github.io/albi345-slides/. \n",
    "\n",
    "###### Example usage\n",
    "```\n",
    "papermill \\ \n",
    "-p PDFPATH /home/aubrey/ALBI-345/files/pdfs/Orders-with-Complete-Metamorphosis.pdf \\ \n",
    "pdf2reveal.ipynb \\ \n",
    "out.ipynb\n",
    "```\n",
    "After running this example and pushing the local repo to gitHub, the online HTML (reveal.js) presentation will be available at \n",
    "https://aubreymoore.github.io/albi345-slides/Orders-with-Complete-Metamorphosis\n",
    "\n",
    "###### Example bash script\n",
    "\n",
    "Example usage: ./pdf2reveal.sh ~/ALBI-345/files/pdfs/urban-entomology.pdf \n",
    "\n",
    "```bash\n",
    "#!/bin/bash\n",
    "echo $1\n",
    "if test -r $1\n",
    "then\n",
    "    papermill -p PDFPATH $1 pdf2reveal.ipynb out.ipynb\n",
    "\tgit pull\n",
    "\tgit add .\n",
    "\tgit commit -m \"$1\"\n",
    "\tgit push\n",
    "else\n",
    "    echo \"ERROR: Cannot find PDF at $1\"\n",
    "fi\n",
    "```\n",
    "\n",
    "###### Directory structure:\n",
    "```\n",
    "pdf2reveal.ipynb          This notebook.\n",
    "index.html                Recreated every time this notebook is run. Index of presentations.\n",
    "template.html             Created during intitial run of this notebook.\n",
    "out.ipynb                 Created when running this notebook using papermill. Useful for error checking.\n",
    "reveal.js-master (dir)    Created during intitial run of this notebook.\n",
    "images (dir)              Created during intitial run of this notebook.\n",
    "   presentation1-000.jpg  Created when PDFPATH is \"*/presentation1.pdf\"\n",
    "   presentation1-001.jpg  Created when PDFPATH is \"*/presentation1.pdf\"\n",
    "   ...\n",
    "   presentation2-000.jpg  Created when PDFPATH is \"*/presentation2.pdf\"\n",
    "   presentation2-001.jpg  Created when PDFPATH is \"*/presentation2.pdf\"\n",
    "   ...\n",
    "presentation1 (dir)       Created when PDFPATH is \"*/presentation1.pdf\"\n",
    "   presentation1.pdf      Created when PDFPATH is \"*/presentation1.pdf\" Copy of original PDF.\n",
    "   index.html             Created when PDFPATH is \"*/presentation1.pdf\" This is the HTML presentation.  \n",
    "presentation2 (dir)       Created when PDFPATH is \"*/presentation2.pdf\"\n",
    "   presentation2.pdf      Created when PDFPATH is \"*/presentation2.pdf\" Copy of original PDF.\n",
    "   index.html             Created when PDFPATH is \"*/presentation2.pdf\" This is the HTML presentation.\n",
    "```\n",
    "\n",
    "##### Fixing imagemagick problems\n",
    "This notebook uses the **convert** command, which is part of **imagemagick** to convert PDFs to images.\n",
    "Had some initial problems which were fixed by changing a few lines in the config file **/etc/ImageMagick-6/policy.xml**:\n",
    "```\n",
    "<policy domain=\"coder\" rights=\"none\" pattern=\"PDF\" />\n",
    "<policy domain=\"resource\" name=\"memory\" value=\"256MiB\"/>\n",
    "<policy domain=\"resource\" name=\"disk\" value=\"1GiB\"/>\n",
    "```\n",
    "where changed to:\n",
    "```\n",
    "<!--  <policy domain=\"coder\" rights=\"none\" pattern=\"PDF\" />  -->\n",
    "<policy domain=\"resource\" name=\"memory\" value=\"8GiB\"/>\n",
    "<policy domain=\"resource\" name=\"disk\" value=\"8GiB\"/>\n",
    "```\n",
    "### References\n",
    "* https://marcus-baw.medium.com/using-reveal-js-a74b30e4065b\n",
    "* https://martinomensio.medium.com/how-to-host-reveal-js-slides-on-github-pages-and-have-a-tidy-repository-1a363944c38d\n",
    "* https://superuser.com/questions/1178666/imagemagick-convert-quits-after-some-pages"
   ]
  },
  {
   "cell_type": "code",
   "execution_count": 1,
   "id": "ba28ba4e",
   "metadata": {
    "execution": {
     "iopub.execute_input": "2021-11-09T20:19:53.661333Z",
     "iopub.status.busy": "2021-11-09T20:19:53.660996Z",
     "iopub.status.idle": "2021-11-09T20:19:53.722635Z",
     "shell.execute_reply": "2021-11-09T20:19:53.722325Z"
    },
    "papermill": {
     "duration": 0.067669,
     "end_time": "2021-11-09T20:19:53.722734",
     "exception": false,
     "start_time": "2021-11-09T20:19:53.655065",
     "status": "completed"
    },
    "tags": []
   },
   "outputs": [],
   "source": [
    "import os\n",
    "import requests, zipfile, io\n",
    "import jinja2\n",
    "import glob\n",
    "import shutil"
   ]
  },
  {
   "cell_type": "code",
   "execution_count": 2,
   "id": "4229e212",
   "metadata": {
    "execution": {
     "iopub.execute_input": "2021-11-09T20:19:53.732253Z",
     "iopub.status.busy": "2021-11-09T20:19:53.731959Z",
     "iopub.status.idle": "2021-11-09T20:19:53.733865Z",
     "shell.execute_reply": "2021-11-09T20:19:53.733531Z"
    },
    "papermill": {
     "duration": 0.007706,
     "end_time": "2021-11-09T20:19:53.733928",
     "exception": false,
     "start_time": "2021-11-09T20:19:53.726222",
     "status": "completed"
    },
    "tags": [
     "parameters"
    ]
   },
   "outputs": [],
   "source": [
    "# Parameters which may be set using papermill\n",
    "PDFPATH = '/home/aubrey/Downloads/SWCD-2021-07-30.pdf'\n",
    "GITHUB_REPO='https://github.com/aubreymoore/albi345-slides'\n",
    "GITHUB_PAGES='https://aubreymoore.github.io/albi345-slides'"
   ]
  },
  {
   "cell_type": "code",
   "execution_count": 3,
   "id": "f11fad98",
   "metadata": {
    "execution": {
     "iopub.execute_input": "2021-11-09T20:19:53.742649Z",
     "iopub.status.busy": "2021-11-09T20:19:53.742348Z",
     "iopub.status.idle": "2021-11-09T20:19:53.744118Z",
     "shell.execute_reply": "2021-11-09T20:19:53.743818Z"
    },
    "papermill": {
     "duration": 0.006914,
     "end_time": "2021-11-09T20:19:53.744181",
     "exception": false,
     "start_time": "2021-11-09T20:19:53.737267",
     "status": "completed"
    },
    "tags": [
     "injected-parameters"
    ]
   },
   "outputs": [],
   "source": [
    "# Parameters\n",
    "PDFPATH = \"/home/aubrey/ALBI-345/files/pdfs/bamba_insect_pests.pdf\"\n"
   ]
  },
  {
   "cell_type": "code",
   "execution_count": 4,
   "id": "a08ffdab",
   "metadata": {
    "execution": {
     "iopub.execute_input": "2021-11-09T20:19:53.753737Z",
     "iopub.status.busy": "2021-11-09T20:19:53.753402Z",
     "iopub.status.idle": "2021-11-09T20:19:53.755323Z",
     "shell.execute_reply": "2021-11-09T20:19:53.755010Z"
    },
    "papermill": {
     "duration": 0.00795,
     "end_time": "2021-11-09T20:19:53.755390",
     "exception": false,
     "start_time": "2021-11-09T20:19:53.747440",
     "status": "completed"
    },
    "tags": []
   },
   "outputs": [],
   "source": [
    "def install_reveal():\n",
    "    \"\"\"\n",
    "    Download and install the latest version of reveal.js.\n",
    "    \"\"\"\n",
    "    if not os.path.exists('reveal.js-master'):\n",
    "        r = requests.get('https://github.com/hakimel/reveal.js/archive/master.zip')\n",
    "        z = zipfile.ZipFile(io.BytesIO(r.content))\n",
    "        z.extractall()"
   ]
  },
  {
   "cell_type": "code",
   "execution_count": 5,
   "id": "1124eae3",
   "metadata": {
    "execution": {
     "iopub.execute_input": "2021-11-09T20:19:53.765721Z",
     "iopub.status.busy": "2021-11-09T20:19:53.765408Z",
     "iopub.status.idle": "2021-11-09T20:19:53.767054Z",
     "shell.execute_reply": "2021-11-09T20:19:53.766742Z"
    },
    "papermill": {
     "duration": 0.007991,
     "end_time": "2021-11-09T20:19:53.767120",
     "exception": false,
     "start_time": "2021-11-09T20:19:53.759129",
     "status": "completed"
    },
    "tags": []
   },
   "outputs": [],
   "source": [
    "def create_template():\n",
    "    \"\"\"\n",
    "    Create a jinja2 template by editing the reveal.js default index.html\n",
    "    \"\"\"\n",
    "\n",
    "    # Read the default index.html as a string    \n",
    "    s = open('reveal.js-master/index.html', 'r').read()\n",
    "\n",
    "    # edit the string and save it as template.html\n",
    "    s = s.replace('\"dist', '\"../reveal.js-master/dist')\n",
    "    s = s.replace('\"plugin', '\"../reveal.js-master/plugin')\n",
    "    s = s.replace('<section>Slide 1</section>\\n\\t\\t\\t\\t<section>Slide 2</section>',\n",
    "              '{% for image in images %}\\n\\t\\t\\t\\t\\t<section> <img src=\"../{{ image }}\"> </section>\\n\\t\\t\\t\\t{% endfor %}')\n",
    "\n",
    "    with open('template.html', 'w') as f:\n",
    "        f.write(s)"
   ]
  },
  {
   "cell_type": "code",
   "execution_count": 6,
   "id": "9c13f3dc",
   "metadata": {
    "execution": {
     "iopub.execute_input": "2021-11-09T20:19:53.778000Z",
     "iopub.status.busy": "2021-11-09T20:19:53.777690Z",
     "iopub.status.idle": "2021-11-09T20:19:53.779518Z",
     "shell.execute_reply": "2021-11-09T20:19:53.779216Z"
    },
    "papermill": {
     "duration": 0.009026,
     "end_time": "2021-11-09T20:19:53.779583",
     "exception": false,
     "start_time": "2021-11-09T20:19:53.770557",
     "status": "completed"
    },
    "tags": []
   },
   "outputs": [],
   "source": [
    "def create_presentation():\n",
    "    \"\"\"\n",
    "    Use the jinja2 template to add slides from the images directory\n",
    "    \"\"\"\n",
    "    \n",
    "    if not os.path.exists('images'):\n",
    "        os.mkdir('images')    \n",
    "    \n",
    "    # Create a directory for the presentation and put a copy of the PDF in it\n",
    "    pdf_name = os.path.basename(PDFPATH).replace('.pdf', '')\n",
    "    os.mkdir(pdf_name)\n",
    "    shutil.copyfile(PDFPATH, f'{pdf_name}/{pdf_name}.pdf')\n",
    "    \n",
    "    # Convert the PDF pages into jpg images and store them in the communal images directory\n",
    "    os.system(f'convert -density 300 {PDFPATH} images/{pdf_name}-%03d.jpg')\n",
    "    images = sorted(glob.glob(f'images/{pdf_name}-???.jpg'))  \n",
    "    print(images)\n",
    "       \n",
    "    templateLoader = jinja2.FileSystemLoader(searchpath=\"./\")\n",
    "    templateEnv = jinja2.Environment(loader=templateLoader)\n",
    "    TEMPLATE_FILE = \"template.html\"\n",
    "    template = templateEnv.get_template(TEMPLATE_FILE)\n",
    "    outputText = template.render({'images': images})\n",
    "\n",
    "    with open(f'{pdf_name}/index.html', 'w') as out:\n",
    "        out.write(outputText)"
   ]
  },
  {
   "cell_type": "code",
   "execution_count": 7,
   "id": "b12e9564",
   "metadata": {
    "execution": {
     "iopub.execute_input": "2021-11-09T20:19:53.791212Z",
     "iopub.status.busy": "2021-11-09T20:19:53.790902Z",
     "iopub.status.idle": "2021-11-09T20:19:53.792713Z",
     "shell.execute_reply": "2021-11-09T20:19:53.792340Z"
    },
    "papermill": {
     "duration": 0.00981,
     "end_time": "2021-11-09T20:19:53.792780",
     "exception": false,
     "start_time": "2021-11-09T20:19:53.782970",
     "status": "completed"
    },
    "tags": []
   },
   "outputs": [],
   "source": [
    "def update_main_index():\n",
    "    \"\"\"\n",
    "    Update the main GitHub pages index\n",
    "    \"\"\"\n",
    "    # Get a list of presentations from the image directory \n",
    "    images = glob.glob('images/*.jpg')\n",
    "    for i, image in enumerate(images):\n",
    "        images[i] = image[7:-8]\n",
    "    presentations = set(images)\n",
    "    presentations = list(presentations)\n",
    "    presentations = sorted(presentations, key=str.casefold)\n",
    "\n",
    "    # Create index page\n",
    "    s = '<h1>HTML (reveal.js) presentations for ALBI-345</h1>\\n'\n",
    "    for presentation in presentations:\n",
    "        s += f'<a href=\"{GITHUB_PAGES}/{presentation}\">{presentation}</a><br>\\n'\n",
    "    with open(\"index.html\", \"w\") as f:\n",
    "        f.write(s)"
   ]
  },
  {
   "cell_type": "code",
   "execution_count": 8,
   "id": "192bb593",
   "metadata": {
    "execution": {
     "iopub.execute_input": "2021-11-09T20:19:53.802325Z",
     "iopub.status.busy": "2021-11-09T20:19:53.802016Z",
     "iopub.status.idle": "2021-11-09T20:21:58.373892Z",
     "shell.execute_reply": "2021-11-09T20:21:58.374146Z"
    },
    "papermill": {
     "duration": 124.577934,
     "end_time": "2021-11-09T20:21:58.374231",
     "exception": false,
     "start_time": "2021-11-09T20:19:53.796297",
     "status": "completed"
    },
    "tags": []
   },
   "outputs": [
    {
     "name": "stdout",
     "output_type": "stream",
     "text": [
      "['images/bamba_insect_pests-000.jpg', 'images/bamba_insect_pests-001.jpg', 'images/bamba_insect_pests-002.jpg', 'images/bamba_insect_pests-003.jpg', 'images/bamba_insect_pests-004.jpg', 'images/bamba_insect_pests-005.jpg', 'images/bamba_insect_pests-006.jpg', 'images/bamba_insect_pests-007.jpg', 'images/bamba_insect_pests-008.jpg', 'images/bamba_insect_pests-009.jpg', 'images/bamba_insect_pests-010.jpg', 'images/bamba_insect_pests-011.jpg', 'images/bamba_insect_pests-012.jpg', 'images/bamba_insect_pests-013.jpg', 'images/bamba_insect_pests-014.jpg', 'images/bamba_insect_pests-015.jpg', 'images/bamba_insect_pests-016.jpg', 'images/bamba_insect_pests-017.jpg', 'images/bamba_insect_pests-018.jpg', 'images/bamba_insect_pests-019.jpg', 'images/bamba_insect_pests-020.jpg', 'images/bamba_insect_pests-021.jpg', 'images/bamba_insect_pests-022.jpg', 'images/bamba_insect_pests-023.jpg', 'images/bamba_insect_pests-024.jpg', 'images/bamba_insect_pests-025.jpg', 'images/bamba_insect_pests-026.jpg', 'images/bamba_insect_pests-027.jpg', 'images/bamba_insect_pests-028.jpg', 'images/bamba_insect_pests-029.jpg', 'images/bamba_insect_pests-030.jpg', 'images/bamba_insect_pests-031.jpg', 'images/bamba_insect_pests-032.jpg', 'images/bamba_insect_pests-033.jpg', 'images/bamba_insect_pests-034.jpg', 'images/bamba_insect_pests-035.jpg', 'images/bamba_insect_pests-036.jpg', 'images/bamba_insect_pests-037.jpg', 'images/bamba_insect_pests-038.jpg', 'images/bamba_insect_pests-039.jpg', 'images/bamba_insect_pests-040.jpg', 'images/bamba_insect_pests-041.jpg', 'images/bamba_insect_pests-042.jpg', 'images/bamba_insect_pests-043.jpg', 'images/bamba_insect_pests-044.jpg', 'images/bamba_insect_pests-045.jpg', 'images/bamba_insect_pests-046.jpg', 'images/bamba_insect_pests-047.jpg', 'images/bamba_insect_pests-048.jpg', 'images/bamba_insect_pests-049.jpg', 'images/bamba_insect_pests-050.jpg', 'images/bamba_insect_pests-051.jpg', 'images/bamba_insect_pests-052.jpg', 'images/bamba_insect_pests-053.jpg', 'images/bamba_insect_pests-054.jpg', 'images/bamba_insect_pests-055.jpg', 'images/bamba_insect_pests-056.jpg', 'images/bamba_insect_pests-057.jpg', 'images/bamba_insect_pests-058.jpg', 'images/bamba_insect_pests-059.jpg', 'images/bamba_insect_pests-060.jpg', 'images/bamba_insect_pests-061.jpg', 'images/bamba_insect_pests-062.jpg', 'images/bamba_insect_pests-063.jpg', 'images/bamba_insect_pests-064.jpg', 'images/bamba_insect_pests-065.jpg', 'images/bamba_insect_pests-066.jpg', 'images/bamba_insect_pests-067.jpg', 'images/bamba_insect_pests-068.jpg', 'images/bamba_insect_pests-069.jpg', 'images/bamba_insect_pests-070.jpg', 'images/bamba_insect_pests-071.jpg', 'images/bamba_insect_pests-072.jpg', 'images/bamba_insect_pests-073.jpg', 'images/bamba_insect_pests-074.jpg', 'images/bamba_insect_pests-075.jpg', 'images/bamba_insect_pests-076.jpg', 'images/bamba_insect_pests-077.jpg', 'images/bamba_insect_pests-078.jpg', 'images/bamba_insect_pests-079.jpg', 'images/bamba_insect_pests-080.jpg', 'images/bamba_insect_pests-081.jpg', 'images/bamba_insect_pests-082.jpg', 'images/bamba_insect_pests-083.jpg', 'images/bamba_insect_pests-084.jpg', 'images/bamba_insect_pests-085.jpg', 'images/bamba_insect_pests-086.jpg', 'images/bamba_insect_pests-087.jpg', 'images/bamba_insect_pests-088.jpg', 'images/bamba_insect_pests-089.jpg', 'images/bamba_insect_pests-090.jpg', 'images/bamba_insect_pests-091.jpg', 'images/bamba_insect_pests-092.jpg', 'images/bamba_insect_pests-093.jpg', 'images/bamba_insect_pests-094.jpg', 'images/bamba_insect_pests-095.jpg', 'images/bamba_insect_pests-096.jpg', 'images/bamba_insect_pests-097.jpg', 'images/bamba_insect_pests-098.jpg', 'images/bamba_insect_pests-099.jpg']\n",
      "Finished converting /home/aubrey/ALBI-345/files/pdfs/bamba_insect_pests.pdf\n",
      "Do not forget to update git and push to GitHub.\n"
     ]
    }
   ],
   "source": [
    "# MAIN\n",
    "\n",
    "PRESENTATION = os.path.basename(PDFPATH).replace('.pdf', '')\n",
    "if not os.path.exists('reveal.js-master'):\n",
    "    install_reveal()\n",
    "    create_template()\n",
    "create_presentation()\n",
    "update_main_index()\n",
    "print(f'Finished converting {PDFPATH}')\n",
    "print('Do not forget to update git and push to GitHub.')"
   ]
  }
 ],
 "metadata": {
  "kernelspec": {
   "display_name": "Python 3",
   "language": "python",
   "name": "python3"
  },
  "language_info": {
   "codemirror_mode": {
    "name": "ipython",
    "version": 3
   },
   "file_extension": ".py",
   "mimetype": "text/x-python",
   "name": "python",
   "nbconvert_exporter": "python",
   "pygments_lexer": "ipython3",
   "version": "3.8.10"
  },
  "papermill": {
   "default_parameters": {},
   "duration": 125.736451,
   "end_time": "2021-11-09T20:21:58.584235",
   "environment_variables": {},
   "exception": null,
   "input_path": "pdf2reveal.ipynb",
   "output_path": "out.ipynb",
   "parameters": {
    "PDFPATH": "/home/aubrey/ALBI-345/files/pdfs/bamba_insect_pests.pdf"
   },
   "start_time": "2021-11-09T20:19:52.847784",
   "version": "2.3.3"
  }
 },
 "nbformat": 4,
 "nbformat_minor": 5
}